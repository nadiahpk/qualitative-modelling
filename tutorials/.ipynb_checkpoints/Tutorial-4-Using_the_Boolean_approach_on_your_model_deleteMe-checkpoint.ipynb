{
 "cells": [
  {
   "cell_type": "code",
   "execution_count": 220,
   "metadata": {},
   "outputs": [
    {
     "name": "stdout",
     "output_type": "stream",
     "text": [
      "spare.pdf has been created\n"
     ]
    }
   ],
   "source": [
    "from findpcu import draw_implication_network, draw_implication_network2\n",
    "import os\n",
    "\n",
    "\n",
    "niceNames = {\n",
    "    'int': 'intervention',\n",
    "    'qua': 'environmental flow',\n",
    "    'lei': 'leisure use of river',\n",
    "    'pri': 'water price',\n",
    "    'sat': 'satisfaction with water authority',\n",
    "    'eng': 'engagement of stakeholders',\n",
    "}\n",
    "\n",
    "PCUList = [\n",
    "    ['posint_lei', 'negint_qua'], # q- -> l-\n",
    "    ['posint_pri', 'negint_qua', 'posint_sat'], # p+ and q- -> s-\n",
    "    ['negint_pri', 'negint_qua', 'posint_eng', 'negint_sat'], # p- and q- and e+ -> s+\n",
    "    ['posint_pri', 'posint_qua', 'negint_eng', 'posint_sat'], # p+ and q+ and e- -> s-\n",
    "    ['posint_pri', 'posint_qua', 'posint_eng', 'negint_sat'], # p+ and q+ and e+ -> s+\n",
    "    ['posint_pri', 'negint_qua', 'posint_eng'] # p+ and q- -> e- ; won't accept price inc without quality increase\n",
    "    # ['posint_eng', 'posint_pri'] # e+ -> puncertain\n",
    "]\n",
    "\n",
    "alwaysAntecedents1 = [\n",
    "    'posint_eng', 'negint_eng', 'negint_qua', 'posint_qua', 'posint_pri', 'negint_pri'\n",
    "]\n",
    "\n",
    "draw_implication_network2(PCUList, alwaysAntecedents1, 'spare', niceNames = niceNames, controlSymbol = '&#10148; ')\n"
   ]
  },
  {
   "cell_type": "code",
   "execution_count": 221,
   "metadata": {},
   "outputs": [
    {
     "data": {
      "text/plain": [
       "int_eng int_sat int_pri int_lei int_qua\n",
       "      0       0       0       0       0 : 0\n",
       "      0       0       0       0       1 : 0\n",
       "      0       0       0       1       0 : 1\n",
       "      0       0       0       1       1 : 0\n",
       "      0       0       1       0       0 : 0\n",
       "      0       0       1       0       1 : 0\n",
       "      0       0       1       1       0 : 1\n",
       "      0       0       1       1       1 : 0\n",
       "      0       1       0       0       0 : 0\n",
       "      0       1       0       0       1 : 0\n",
       "      0       1       0       1       0 : 1\n",
       "      0       1       0       1       1 : 0\n",
       "      0       1       1       0       0 : 1\n",
       "      0       1       1       0       1 : 1\n",
       "      0       1       1       1       0 : 1\n",
       "      0       1       1       1       1 : 1\n",
       "      1       0       0       0       0 : 1\n",
       "      1       0       0       0       1 : 0\n",
       "      1       0       0       1       0 : 1\n",
       "      1       0       0       1       1 : 0\n",
       "      1       0       1       0       0 : 1\n",
       "      1       0       1       0       1 : 1\n",
       "      1       0       1       1       0 : 1\n",
       "      1       0       1       1       1 : 1\n",
       "      1       1       0       0       0 : 0\n",
       "      1       1       0       0       1 : 0\n",
       "      1       1       0       1       0 : 1\n",
       "      1       1       0       1       1 : 0\n",
       "      1       1       1       0       0 : 1\n",
       "      1       1       1       0       1 : 0\n",
       "      1       1       1       1       0 : 1\n",
       "      1       1       1       1       1 : 0"
      ]
     },
     "execution_count": 221,
     "metadata": {},
     "output_type": "execute_result"
    }
   ],
   "source": [
    "from pyeda.inter import expr2truthtable\n",
    "expr2truthtable(unobservedBoolexpr)"
   ]
  },
  {
   "cell_type": "code",
   "execution_count": null,
   "metadata": {},
   "outputs": [],
   "source": []
  },
  {
   "cell_type": "code",
   "execution_count": 213,
   "metadata": {},
   "outputs": [
    {
     "data": {
      "text/plain": [
       "[int_qua, int_lei, int_pri, int_sat, int_eng]"
      ]
     },
     "execution_count": 213,
     "metadata": {},
     "output_type": "execute_result"
    }
   ],
   "source": [
    "from pyeda.inter import espresso_exprs\n",
    "from findpcu import getUnobservedInts, getRespvarList2BoolvarList, intList2boolexpr, boolexpr2RespvalList\n",
    "\n",
    "desiredResponses = ['int_qua', 'int_lei', 'int_pri', 'int_sat', 'int_eng']\n",
    "str4true = 'pos'; str4false = 'neg'\n",
    "\n",
    "x, x2s, r2idx = getRespvarList2BoolvarList(desiredResponses, str4true, str4false)\n",
    "x"
   ]
  },
  {
   "cell_type": "code",
   "execution_count": 214,
   "metadata": {},
   "outputs": [
    {
     "data": {
      "text/plain": [
       "bidict({'posint_qua': 1, 'posint_lei': 2, 'posint_pri': 3, 'posint_sat': 4, 'posint_eng': 5, 'negint_qua': -1, 'negint_lei': -2, 'negint_pri': -3, 'negint_sat': -4, 'negint_eng': -5})"
      ]
     },
     "execution_count": 214,
     "metadata": {},
     "output_type": "execute_result"
    }
   ],
   "source": [
    "r2idx"
   ]
  },
  {
   "cell_type": "code",
   "execution_count": 215,
   "metadata": {},
   "outputs": [
    {
     "data": {
      "text/plain": [
       "Or(And(~int_qua, int_lei), And(~int_qua, int_pri, int_sat), And(~int_qua, ~int_pri, ~int_sat, int_eng), And(int_qua, int_pri, int_sat, ~int_eng), And(int_qua, int_pri, ~int_sat, int_eng), And(~int_qua, int_pri, int_eng))"
      ]
     },
     "execution_count": 215,
     "metadata": {},
     "output_type": "execute_result"
    }
   ],
   "source": [
    "# turn my PCUList into an unobserved Boolean expression\n",
    "\n",
    "from pyeda.inter import And, Or\n",
    "\n",
    "PCUListAsBoolList = list()\n",
    "\n",
    "for PCU in PCUList:\n",
    "    \n",
    "    PCUAsBool = list()\n",
    "    for term in PCU:\n",
    "        \n",
    "        sIdx = r2idx[term]\n",
    "        \n",
    "        if sIdx > 0:\n",
    "            \n",
    "            PCUAsBool.append(x[r2idx[term]-1])\n",
    "            \n",
    "        else:\n",
    "            \n",
    "            PCUAsBool.append(~x[-r2idx[term]-1])\n",
    "    \n",
    "    PCUListAsBoolList.append(And(*PCUAsBool))\n",
    "    \n",
    "PCUListAsBool = Or(*PCUListAsBoolList)\n",
    "    \n",
    "PCUListAsBool"
   ]
  },
  {
   "cell_type": "code",
   "execution_count": 216,
   "metadata": {},
   "outputs": [],
   "source": [
    "unobservedBoolexpr = PCUListAsBool"
   ]
  },
  {
   "cell_type": "code",
   "execution_count": 217,
   "metadata": {},
   "outputs": [
    {
     "data": {
      "text/plain": [
       "Or(And(int_pri, int_sat, ~int_eng), And(~int_qua, int_pri, int_sat), And(~int_qua, int_lei), And(int_pri, ~int_sat, int_eng), And(~int_qua, ~int_sat, int_eng))"
      ]
     },
     "execution_count": 217,
     "metadata": {},
     "output_type": "execute_result"
    }
   ],
   "source": [
    "boolExprMin, = espresso_exprs(unobservedBoolexpr)\n",
    "boolExprMin"
   ]
  },
  {
   "cell_type": "code",
   "execution_count": 218,
   "metadata": {},
   "outputs": [
    {
     "data": {
      "text/plain": [
       "[['posint_lei', 'negint_qua'],\n",
       " ['posint_pri', 'posint_sat', 'negint_eng'],\n",
       " ['posint_pri', 'posint_sat', 'negint_qua'],\n",
       " ['negint_sat', 'posint_eng', 'negint_qua'],\n",
       " ['posint_pri', 'negint_sat', 'posint_eng']]"
      ]
     },
     "execution_count": 218,
     "metadata": {},
     "output_type": "execute_result"
    }
   ],
   "source": [
    "from findpcu import boolexpr2RespvalList\n",
    "\n",
    "# returns the PCUs of the boolean expression as a list of strings\n",
    "PCUList_min = boolexpr2RespvalList(boolExprMin, x2s)\n",
    "\n",
    "PCUList_min"
   ]
  },
  {
   "cell_type": "code",
   "execution_count": 219,
   "metadata": {},
   "outputs": [
    {
     "name": "stdout",
     "output_type": "stream",
     "text": [
      "spare_min.pdf has been created\n"
     ]
    },
    {
     "data": {
      "text/plain": [
       "\"\\ndraw_implication_network2(PCUList_min, \\n                          ['posint_eng', 'negint_eng', 'posint_pri', 'negint_pri', 'posint_sat', 'negint_sat'], \\n                          'spare_min', niceNames = niceNames, controlSymbol = '&#10148; ')\\n\""
      ]
     },
     "execution_count": 219,
     "metadata": {},
     "output_type": "execute_result"
    }
   ],
   "source": [
    "draw_implication_network2(PCUList_min, \n",
    "                          ['posint_eng', 'negint_eng', 'negint_qua', 'posint_pri', 'negint_pri', 'posint_qua'], \n",
    "                          'spare_min', niceNames = niceNames, controlSymbol = '&#10148; ')\n",
    "'''\n",
    "draw_implication_network2(PCUList_min, \n",
    "                          ['posint_eng', 'negint_eng', 'posint_pri', 'negint_pri', 'posint_sat', 'negint_sat'], \n",
    "                          'spare_min', niceNames = niceNames, controlSymbol = '&#10148; ')\n",
    "'''"
   ]
  },
  {
   "cell_type": "code",
   "execution_count": null,
   "metadata": {},
   "outputs": [],
   "source": []
  },
  {
   "cell_type": "code",
   "execution_count": null,
   "metadata": {},
   "outputs": [],
   "source": []
  },
  {
   "cell_type": "code",
   "execution_count": null,
   "metadata": {},
   "outputs": [],
   "source": []
  },
  {
   "cell_type": "code",
   "execution_count": null,
   "metadata": {},
   "outputs": [],
   "source": []
  },
  {
   "cell_type": "code",
   "execution_count": null,
   "metadata": {},
   "outputs": [],
   "source": []
  },
  {
   "cell_type": "code",
   "execution_count": null,
   "metadata": {},
   "outputs": [],
   "source": []
  },
  {
   "cell_type": "code",
   "execution_count": null,
   "metadata": {},
   "outputs": [],
   "source": []
  },
  {
   "cell_type": "code",
   "execution_count": null,
   "metadata": {},
   "outputs": [],
   "source": []
  }
 ],
 "metadata": {
  "kernelspec": {
   "display_name": "Python 3",
   "language": "python",
   "name": "python3"
  },
  "language_info": {
   "codemirror_mode": {
    "name": "ipython",
    "version": 3
   },
   "file_extension": ".py",
   "mimetype": "text/x-python",
   "name": "python",
   "nbconvert_exporter": "python",
   "pygments_lexer": "ipython3",
   "version": "3.6.7"
  }
 },
 "nbformat": 4,
 "nbformat_minor": 2
}
