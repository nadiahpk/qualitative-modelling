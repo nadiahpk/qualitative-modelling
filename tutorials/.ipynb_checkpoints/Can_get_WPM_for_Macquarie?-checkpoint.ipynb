{
 "cells": [
  {
   "cell_type": "markdown",
   "metadata": {},
   "source": [
    "Check the time it would take to find the weighted-predictions matrix for the Macquarie Island case study."
   ]
  },
  {
   "cell_type": "code",
   "execution_count": 13,
   "metadata": {},
   "outputs": [],
   "source": [
    "import time\n",
    "\n",
    "spp_list = [ \n",
    "    'albatrosses',\n",
    "    'prions',\n",
    "    'burrowSeabirds',\n",
    "    'petrels',\n",
    "    'herbfield',\n",
    "    'grassland',\n",
    "    'macroInverts',\n",
    "    'mice',\n",
    "    'penguins',\n",
    "    'rabbits',\n",
    "    'rats',\n",
    "    'redpolls',\n",
    "    'skuas',\n",
    "    'surfaceSeabirds',\n",
    "    'tussock',\n",
    "]\n",
    "\n",
    "# key is recipient of positive effect\n",
    "positive_edges_dict = {\n",
    "    'prions':           ['grassland'],\n",
    "    'skuas':            ['prions','burrowSeabirds','rabbits','penguins'],\n",
    "    'petrels':          ['penguins','tussock','grassland'],\n",
    "    'mice':             ['herbfield','macroInverts','tussock'],\n",
    "    'rats':             ['macroInverts','herbfield','tussock'],\n",
    "    'burrowSeabirds':   ['tussock'],\n",
    "    'rabbits':          ['tussock','herbfield','grassland'],\n",
    "    'macroInverts':     ['herbfield','grassland','tussock'],\n",
    "    'albatrosses':      ['tussock','herbfield'],\n",
    "    'redpolls':         ['macroInverts','tussock','herbfield','grassland'],\n",
    "}\n",
    "negative_edges_dict = {\n",
    "    'prions':           ['prions','skuas'],\n",
    "    'skuas':            ['skuas','tussock'],\n",
    "    'penguins':         ['penguins','skuas','petrels'],\n",
    "    'petrels':          ['petrels'],\n",
    "    'mice':             ['mice','rats'],\n",
    "    'rats':             ['rats'],\n",
    "    'burrowSeabirds':   ['burrowSeabirds','skuas','rabbits'],\n",
    "    'rabbits':          ['rabbits','skuas'],\n",
    "    'surfaceSeabirds':  ['surfaceSeabirds','rats'],\n",
    "    'macroInverts':     ['macroInverts','rats','mice','redpolls'],\n",
    "    'tussock':          ['tussock','mice','rats','rabbits'],\n",
    "    'albatrosses':      ['albatrosses'],\n",
    "    'herbfield':        ['herbfield','rabbits'],\n",
    "    'grassland':        ['grassland'],\n",
    "    'redpolls':         ['redpolls'],\n",
    "}\n"
   ]
  },
  {
   "cell_type": "code",
   "execution_count": 7,
   "metadata": {},
   "outputs": [
    {
     "data": {
      "text/plain": [
       "{'albatrosses': 0,\n",
       " 'burrowSeabirds': 2,\n",
       " 'grassland': 5,\n",
       " 'herbfield': 4,\n",
       " 'macroInverts': 6,\n",
       " 'mice': 7,\n",
       " 'penguins': 8,\n",
       " 'petrels': 3,\n",
       " 'prions': 1,\n",
       " 'rabbits': 9,\n",
       " 'rats': 10,\n",
       " 'redpolls': 11,\n",
       " 'skuas': 12,\n",
       " 'surfaceSeabirds': 13,\n",
       " 'tussock': 14}"
      ]
     },
     "execution_count": 7,
     "metadata": {},
     "output_type": "execute_result"
    }
   ],
   "source": [
    "sz = len(spp_list) # the number of species\n",
    "\n",
    "# a dictionary that maps from a species' name to its index in the matrix\n",
    "spp2idx = { spp_name: idx for idx, spp_name in enumerate(spp_list) }\n",
    "spp2idx"
   ]
  },
  {
   "cell_type": "code",
   "execution_count": 8,
   "metadata": {},
   "outputs": [
    {
     "data": {
      "text/plain": [
       "[-1  0  0  0  1  0  0  0  0  0  0  0  0  0  1]\n",
       "[ 0 -1  0  0  0  1  0  0  0  0  0  0 -1  0  0]\n",
       "[ 0  0 -1  0  0  0  0  0  0 -1  0  0 -1  0  1]\n",
       "[ 0  0  0 -1  0  1  0  0  1  0  0  0  0  0  1]\n",
       "[ 0  0  0  0 -1  0  0  0  0 -1  0  0  0  0  0]\n",
       "[ 0  0  0  0  0 -1  0  0  0  0  0  0  0  0  0]\n",
       "[ 0  0  0  0  1  1 -1 -1  0  0 -1 -1  0  0  1]\n",
       "[ 0  0  0  0  1  0  1 -1  0  0 -1  0  0  0  1]\n",
       "[ 0  0  0 -1  0  0  0  0 -1  0  0  0 -1  0  0]\n",
       "[ 0  0  0  0  1  1  0  0  0 -1  0  0 -1  0  1]\n",
       "[ 0  0  0  0  1  0  1  0  0  0 -1  0  0  0  1]\n",
       "[ 0  0  0  0  1  1  1  0  0  0  0 -1  0  0  1]\n",
       "[ 0  1  1  0  0  0  0  0  1  1  0  0 -1  0 -1]\n",
       "[ 0  0  0  0  0  0  0  0  0  0 -1  0  0 -1  0]\n",
       "[ 0  0  0  0  0  0  0 -1  0 -1 -1  0  0  0 -1]"
      ]
     },
     "execution_count": 8,
     "metadata": {},
     "output_type": "execute_result"
    }
   ],
   "source": [
    "Aq = matrix(QQ, sz, sz)\n",
    "\n",
    "\n",
    "for recipient, giverList in positive_edges_dict.items():\n",
    "    for giver in giverList:\n",
    "        Aq[ spp2idx[recipient], spp2idx[giver]] = 1\n",
    "\n",
    "for recipient, giverList in negative_edges_dict.items():\n",
    "    for giver in giverList:\n",
    "        Aq[ spp2idx[recipient], spp2idx[giver]] = -1\n",
    "\n",
    "Aq"
   ]
  },
  {
   "cell_type": "code",
   "execution_count": 9,
   "metadata": {},
   "outputs": [
    {
     "data": {
      "text/plain": [
       "[ 78  12  12  -6  24 -36  -6 -12   6 -42   0   6  12   0  18]\n",
       "[  0  56 -22  11  -5  66  -2  -4 -11  -1   0   2 -22   0   6]\n",
       "[  0 -10  68   5 -59 -48  -8 -16  -5 -43   0   8 -10   0  24]\n",
       "[  0 -10 -10  44 -20  30  -8 -16  34  -4   0   8 -10   0  24]\n",
       "[  0  10  10  -5  59 -30   8  16   5 -35   0  -8  10   0 -24]\n",
       "[  0   0   0   0   0  78   0   0   0   0   0   0   0   0   0]\n",
       "[  0  -4  -4   2  -8  12  28 -22  -2  14   0 -28  -4   0  -6]\n",
       "[  0   0   0   0   0   0   0  78   0   0 -78   0   0   0   0]\n",
       "[  0 -12 -12 -33  15 -42   6  12  33   3   0  -6 -12   0 -18]\n",
       "[  0 -10 -10   5  19  30  -8 -16  -5  35   0   8 -10   0  24]\n",
       "[  0   8   8  -4  16 -24  22 -34   4 -28  78 -22   8   0  12]\n",
       "[  0   8   8  -4  16  54  22 -34   4 -28   0  56   8   0  12]\n",
       "[  0  22  22 -11   5  12   2   4  11   1   0  -2  22   0  -6]\n",
       "[  0  -8  -8   4 -16  24 -22  34  -4  28 -78  22  -8  78 -12]\n",
       "[  0   2   2  -1 -35  -6 -14 -28   1  -7   0  14   2   0  42]"
      ]
     },
     "execution_count": 9,
     "metadata": {},
     "output_type": "execute_result"
    }
   ],
   "source": [
    "adj = (-Aq).adjoint()\n",
    "adj"
   ]
  },
  {
   "cell_type": "code",
   "execution_count": 10,
   "metadata": {},
   "outputs": [
    {
     "data": {
      "text/plain": [
       "[1 0 0 0 1 0 0 0 0 0 0 0 0 0 1]\n",
       "[0 1 0 0 0 1 0 0 0 0 0 0 1 0 0]\n",
       "[0 0 1 0 0 0 0 0 0 1 0 0 1 0 1]\n",
       "[0 0 0 1 0 1 0 0 1 0 0 0 0 0 1]\n",
       "[0 0 0 0 1 0 0 0 0 1 0 0 0 0 0]\n",
       "[0 0 0 0 0 1 0 0 0 0 0 0 0 0 0]\n",
       "[0 0 0 0 1 1 1 1 0 0 1 1 0 0 1]\n",
       "[0 0 0 0 1 0 1 1 0 0 1 0 0 0 1]\n",
       "[0 0 0 1 0 0 0 0 1 0 0 0 1 0 0]\n",
       "[0 0 0 0 1 1 0 0 0 1 0 0 1 0 1]\n",
       "[0 0 0 0 1 0 1 0 0 0 1 0 0 0 1]\n",
       "[0 0 0 0 1 1 1 0 0 0 0 1 0 0 1]\n",
       "[0 1 1 0 0 0 0 0 1 1 0 0 1 0 1]\n",
       "[0 0 0 0 0 0 0 0 0 0 1 0 0 1 0]\n",
       "[0 0 0 0 0 0 0 1 0 1 1 0 0 0 1]"
      ]
     },
     "execution_count": 10,
     "metadata": {},
     "output_type": "execute_result"
    }
   ],
   "source": [
    "# create binary community matrix\n",
    "Ab = matrix(QQ, Aq.nrows(), Aq.ncols())\n",
    "for position in Aq.nonzero_positions():\n",
    "    Ab[position] = 1\n",
    "Ab"
   ]
  },
  {
   "cell_type": "code",
   "execution_count": 14,
   "metadata": {},
   "outputs": [
    {
     "name": "stdout",
     "output_type": "stream",
     "text": [
      "time elapsed = 13.9675879478 seconds\n"
     ]
    }
   ],
   "source": [
    "start_time = time.time()\n",
    "\n",
    "# absolute feedback matrix\n",
    "T = matrix(QQ,sz,sz)\n",
    "for row in range(sz):\n",
    "    for col in range(sz):\n",
    "        keeprows = range(sz)\n",
    "        keeprows.remove(row)\n",
    "        keepcols = range(sz)\n",
    "        keepcols.remove(col)\n",
    "        T[col,row] = Ab.matrix_from_rows_and_columns(keeprows, keepcols).permanent()\n",
    "\n",
    "end_time = time.time()\n",
    "time_elapsed = end_time - start_time\n",
    "print('time elapsed = ' + str(time_elapsed) + ' seconds')"
   ]
  },
  {
   "cell_type": "code",
   "execution_count": 15,
   "metadata": {},
   "outputs": [
    {
     "data": {
      "text/plain": [
       "[ 630   84   84   42  502  600   90  120   42  294  180   90   84    0  150]\n",
       "[   0  504  126   63  253  840   42   56   63  189   84   42  126    0   70]\n",
       "[   0  210  420  105  507  798   84  112  105  315  168   84  210    0  140]\n",
       "[   0   84   84  336  232  684   48   64  294  168   96   48   84    0   80]\n",
       "[   0   42   42   21  291  282   36   48   21  147   72   36   42    0   60]\n",
       "[   0    0    0    0    0  630    0    0    0    0    0    0    0    0    0]\n",
       "[   0   52   52   26  326  500  120  150   26  182  240  120   52    0  150]\n",
       "[   0   64   64   32  432  560  120  210   32  224  210  120   64    0  300]\n",
       "[   0   84   84  273  211  588   42   56  273  147   84   42   84    0   70]\n",
       "[   0   42   42   21  339  282   36   48   21  147   72   36   42    0   60]\n",
       "[   0   48   48   24  312  420   90  150   24  168  210   90   48    0  180]\n",
       "[   0   92   92   46  570 1090  210  210   46  322  300  420   92    0  240]\n",
       "[   0  126  126   63  253  462   42   56   63  189   84   42  126    0   70]\n",
       "[   0   48   48   24  312  420   90  150   24  168  210   90   48  630  180]\n",
       "[   0   42   42   21  211  318   54   72   21  147  108   54   42    0   90]"
      ]
     },
     "execution_count": 15,
     "metadata": {},
     "output_type": "execute_result"
    }
   ],
   "source": [
    "T"
   ]
  },
  {
   "cell_type": "code",
   "execution_count": 16,
   "metadata": {},
   "outputs": [
    {
     "data": {
      "text/plain": [
       "[13/105    1/7    1/7    1/7 12/251   3/50   1/15   1/10    1/7    1/7      0   1/15    1/7      1   3/25]\n",
       "[     1    1/9  11/63  11/63  5/253 11/140   1/21   1/14  11/63  1/189      0   1/21  11/63      1   3/35]\n",
       "[     1   1/21 17/105   1/21 59/507  8/133   2/21    1/7   1/21 43/315      0   2/21   1/21      1   6/35]\n",
       "[     1   5/42   5/42  11/84   5/58  5/114    1/6    1/4 17/147   1/42      0    1/6   5/42      1   3/10]\n",
       "[     1   5/21   5/21   5/21 59/291   5/47    2/9    1/3   5/21   5/21      0    2/9   5/21      1    2/5]\n",
       "[     1      1      1      1      1 13/105      1      1      1      1      1      1      1      1      1]\n",
       "[     1   1/13   1/13   1/13  4/163  3/125   7/30  11/75   1/13   1/13      0   7/30   1/13      1   1/25]\n",
       "[     1      0      0      0      0      0      0  13/35      0      0  13/35      0      0      1      0]\n",
       "[     1    1/7    1/7  11/91 15/211   1/14    1/7   3/14  11/91   1/49      0    1/7    1/7      1   9/35]\n",
       "[     1   5/21   5/21   5/21 19/339   5/47    2/9    1/3   5/21   5/21      0    2/9   5/21      1    2/5]\n",
       "[     1    1/6    1/6    1/6   2/39   2/35  11/45  17/75    1/6    1/6  13/35  11/45    1/6      1   1/15]\n",
       "[     1   2/23   2/23   2/23  8/285 27/545 11/105 17/105   2/23   2/23      0   2/15   2/23      1   1/20]\n",
       "[     1  11/63  11/63  11/63  5/253   2/77   1/21   1/14  11/63  1/189      0   1/21  11/63      1   3/35]\n",
       "[     1    1/6    1/6    1/6   2/39   2/35  11/45  17/75    1/6    1/6  13/35  11/45    1/6 13/105   1/15]\n",
       "[     1   1/21   1/21   1/21 35/211   1/53   7/27   7/18   1/21   1/21      0   7/27   1/21      1   7/15]"
      ]
     },
     "execution_count": 16,
     "metadata": {},
     "output_type": "execute_result"
    }
   ],
   "source": [
    "# weighted predictions matrix\n",
    "\n",
    "# Weighted predictions matrix is equal to the element-wise fraction of the adjugate to the absolute feedback matrix\n",
    "abs_adj = adj.apply_map(abs) # absolute value of adjugate matrix\n",
    "W = abs_adj.elementwise_product(T.apply_map(lambda x: 0 if x == 0 else 1/x))\n",
    "\n",
    "# Though for independent species, we set the weighted predictions matrix value to 1\n",
    "for position in (T.find(lambda x: x == 0, indices=True)).iterkeys():\n",
    "    W[position] = 1\n",
    "W"
   ]
  },
  {
   "cell_type": "code",
   "execution_count": null,
   "metadata": {},
   "outputs": [],
   "source": []
  }
 ],
 "metadata": {
  "kernelspec": {
   "display_name": "SageMath 8.1",
   "language": "",
   "name": "sagemath"
  },
  "language_info": {
   "codemirror_mode": {
    "name": "ipython",
    "version": 2
   },
   "file_extension": ".py",
   "mimetype": "text/x-python",
   "name": "python",
   "nbconvert_exporter": "python",
   "pygments_lexer": "ipython2",
   "version": "2.7.15rc1"
  }
 },
 "nbformat": 4,
 "nbformat_minor": 2
}
