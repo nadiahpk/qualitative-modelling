{
 "cells": [
  {
   "cell_type": "markdown",
   "metadata": {},
   "source": [
    "The purpose of this tutorial is to give an example of how complicated implication networks can result from a Boolean approach, and how restructuring the network can make the interpretation clearer.\n",
    "\n",
    "## Rat control in Macquarie Island\n",
    "\n",
    "Obtain simulation results for rat control. See \"Tutorial 2\" for details."
   ]
  },
  {
   "cell_type": "code",
   "execution_count": 18,
   "metadata": {},
   "outputs": [],
   "source": [
    "from qualmod import initialise_foodweb, draw_foodweb, qualitative_community_matrix, get_conditions_lists\n",
    "import numpy as np\n",
    "from IPython.display import Image\n",
    "import os\n",
    "\n",
    "# define the Macquarie Island interaction network and the control, validation, monitoring, scenario\n",
    "# ---\n",
    "\n",
    "# species list\n",
    "sppList = [ \n",
    "    'albatrosses',\n",
    "    'prions',\n",
    "    'burrowSeabirds',\n",
    "    'petrels',\n",
    "    'herbfield',\n",
    "    'macroInverts',\n",
    "    'mice',\n",
    "    'penguins',\n",
    "    'rabbits',\n",
    "    'rats',\n",
    "    'redpolls',\n",
    "    'skuas',\n",
    "    'surfaceSeabirds',\n",
    "    'tussock',\n",
    "]\n",
    "\n",
    "# interactions: key is recipient of positive effect\n",
    "positive_edges_dict = {\n",
    "    'prions':           ['grassland'],\n",
    "    'skuas':            ['prions','burrowSeabirds','rabbits','penguins'],\n",
    "    'petrels':          ['penguins','tussock','grassland'],\n",
    "    'mice':             ['herbfield','macroInverts','tussock'],\n",
    "    'rats':             ['macroInverts','herbfield','tussock'],\n",
    "    'burrowSeabirds':   ['tussock'],\n",
    "    'rabbits':          ['tussock','herbfield','grassland'],\n",
    "    'macroInverts':     ['herbfield','grassland','tussock'],\n",
    "    'albatrosses':      ['tussock','herbfield'],\n",
    "    'redpolls':         ['macroInverts','tussock','herbfield','grassland'],\n",
    "}\n",
    "negative_edges_dict = {\n",
    "    'prions':           ['prions','skuas'],\n",
    "    'skuas':            ['skuas','tussock'],\n",
    "    'penguins':         ['penguins','skuas','petrels'],\n",
    "    'petrels':          ['petrels'],\n",
    "    'mice':             ['mice','rats'],\n",
    "    'rats':             ['rats'],\n",
    "    'burrowSeabirds':   ['burrowSeabirds','skuas','rabbits'],\n",
    "    'rabbits':          ['rabbits','skuas'],\n",
    "    'surfaceSeabirds':  ['surfaceSeabirds','rats'],\n",
    "    'macroInverts':     ['macroInverts','rats','mice','redpolls'],\n",
    "    'tussock':          ['tussock','mice','rats','rabbits'],\n",
    "    'albatrosses':      ['albatrosses'],\n",
    "    'herbfield':        ['herbfield','rabbits'],\n",
    "    'grassland':        ['grassland'],\n",
    "    'redpolls':         ['redpolls'],\n",
    "}\n",
    "\n",
    "# create the web\n",
    "web = initialise_foodweb(positive_edges_dict, negative_edges_dict)\n",
    "sz = web.order() # size of web\n",
    "\n",
    "# validation criteria for the web\n",
    "validation = {\n",
    "    'rabbits': { 'rabbits': +1, 'tussock': -1, }, # response to increase in rabbits, plausibility constraint\n",
    "    'rats': { 'rats': +1}, # assume that rat suppression will be successful\n",
    "}\n",
    "\n",
    "# list of controlled species, just one: rats\n",
    "control_list = ['rats']\n",
    "\n",
    "# species responses we monitor\n",
    "monitored_list = [\n",
    "    'prions', 'skuas', 'penguins', \n",
    "    'petrels', 'mice', 'burrowSeabirds', \n",
    "    'rabbits', 'surfaceSeabirds', \n",
    "    'macroInverts', 'tussock', 'albatrosses', \n",
    "    'herbfield', 'redpolls']\n",
    "\n",
    "\n",
    "# create the items needed for doing the parameter-value sweep of community matrices\n",
    "# ---\n",
    "\n",
    "# qualitative matrix\n",
    "(Mq, s2idx) = qualitative_community_matrix(web)\n",
    "\n",
    "# validation conditions for the sensitivity matrix\n",
    "condns = [ ( s2idx[rowName], s2idx[colName], s ) for colName, rowSignDict in validation.items() for rowName, s in rowSignDict.items()\n",
    "]\n",
    "\n",
    "\n",
    "# perform the parameter-value sweep\n",
    "# ---\n",
    "\n",
    "# initialise an empty set to collect the species-response combinations\n",
    "collectedResponses = {spp: set() for spp in control_list}\n",
    "\n",
    "# for the purposes of this example I will stop when 208 responses found\n",
    "\n",
    "while len(collectedResponses['rats']) < 208:\n",
    "    t += 1\n",
    "    \n",
    "    # find valid stable community matrix\n",
    "    valid = False\n",
    "\n",
    "    while not valid:\n",
    "\n",
    "        # Find a random community matrix that is stable\n",
    "        maxEig = 1\n",
    "\n",
    "        while maxEig > 0:\n",
    "            M = np.multiply(np.random.random_sample((sz,sz)), Mq)\n",
    "            maxEig = max(np.real(np.linalg.eigvals(M)))\n",
    "\n",
    "        # now have a stable matrix\n",
    "\n",
    "        # find sensitivity matrix\n",
    "        Sq = - np.linalg.inv(M)\n",
    "\n",
    "        # check validation criteria\n",
    "        valid = all( [np.sign(Sq[c[0],c[1]]) == c[2] for c in condns] )\n",
    "        \n",
    "    # now have a valid stable community matrix\n",
    "    \n",
    "    # collect the response combination if it is one we haven't seen before\n",
    "    for ps in control_list:\n",
    "\n",
    "        response = tuple('neg' if Sq[s2idx[ms],s2idx[ps]]<0 else 'pos' if Sq[s2idx[ms],s2idx[ps]]>0 else 'zer' \n",
    "                         for ms in monitored_list)\n",
    "\n",
    "        if response not in collectedResponses[ps]:\n",
    "\n",
    "            # fs[ps].write(','.join(response) + '\\n')\n",
    "            collectedResponses[ps].add(response)\n",
    "            "
   ]
  },
  {
   "cell_type": "code",
   "execution_count": 19,
   "metadata": {},
   "outputs": [
    {
     "data": {
      "text/plain": [
       "208"
      ]
     },
     "execution_count": 19,
     "metadata": {},
     "output_type": "execute_result"
    }
   ],
   "source": [
    "len(collectedResponses['rats'])"
   ]
  },
  {
   "cell_type": "markdown",
   "metadata": {},
   "source": [
    "Do the Boolean analysis of the collected species responses.\n"
   ]
  },
  {
   "cell_type": "code",
   "execution_count": 25,
   "metadata": {},
   "outputs": [
    {
     "data": {
      "text/plain": [
       "23"
      ]
     },
     "execution_count": 25,
     "metadata": {},
     "output_type": "execute_result"
    }
   ],
   "source": [
    "from pyeda.inter import espresso_exprs\n",
    "from findpcu import getRespvarList2BoolvarList, intList2boolexpr, boolexpr2RespvalList\n",
    "\n",
    "\n",
    "# get unobserved responses as integers\n",
    "# ---\n",
    "\n",
    "str4true = 'pos'; str4false = 'neg'\n",
    "boolLen = len(monitored_list)\n",
    "\n",
    "# initialise as all unobserved\n",
    "unobservedInts = set(range(2**boolLen))\n",
    "\n",
    "# remove those observed\n",
    "for response in collectedResponses['rats']:\n",
    "    \n",
    "    i = int(''.join(['1' if i in str4true else '0' for i in response]), 2)\n",
    "    unobservedInts.discard(i)\n",
    "\n",
    "    \n",
    "# turn each integer representing unobserved into an and expression\n",
    "# ---\n",
    "\n",
    "desiredResponses = [ 'rats_' + response_spp for response_spp in monitored_list ]\n",
    "\n",
    "# create our boolean variables and some useful dictionaries\n",
    "x, x2s, r2idx = getRespvarList2BoolvarList(desiredResponses, str4true, str4false)\n",
    "\n",
    "# expression\n",
    "unobservedBoolexpr = intList2boolexpr(unobservedInts, x)\n",
    "\n",
    "\n",
    "# perform the Boolean minimisation and obtain the list of PCUs\n",
    "# ---\n",
    "\n",
    "boolExprMin, = espresso_exprs(unobservedBoolexpr)\n",
    "PCUList = boolexpr2RespvalList(boolExprMin, x2s)\n",
    "\n",
    "len(PCUList)"
   ]
  },
  {
   "cell_type": "code",
   "execution_count": 26,
   "metadata": {},
   "outputs": [
    {
     "name": "stdout",
     "output_type": "stream",
     "text": [
      "attempt_1.pdf has been created\n"
     ]
    },
    {
     "data": {
      "text/plain": [
       "0"
      ]
     },
     "execution_count": 26,
     "metadata": {},
     "output_type": "execute_result"
    }
   ],
   "source": [
    "from findpcu import draw_implication_network2\n",
    "import os\n",
    "\n",
    "draw_implication_network2(PCUList, \n",
    "                          ['negrats_rabbits', 'posrats_rabbits', 'posrats_tussock', 'negrats_tussock'], \n",
    "                          'attempt_1', niceNames = None, controlSymbol = 'downarrow')\n",
    "\n",
    "# call graphviz to create a png, display in markdown cell\n",
    "os.system(\"dot -Tpng attempt_1.dot > attempt_1.png\")"
   ]
  },
  {
   "cell_type": "markdown",
   "metadata": {},
   "source": [
    "![title](attempt_1.png)"
   ]
  },
  {
   "cell_type": "code",
   "execution_count": 27,
   "metadata": {},
   "outputs": [
    {
     "data": {
      "text/plain": [
       "[['posrats_surfaceSeabirds'],\n",
       " ['negrats_rabbits', 'negrats_herbfield'],\n",
       " ['negrats_prions', 'negrats_skuas'],\n",
       " ['posrats_herbfield', 'posrats_rabbits'],\n",
       " ['posrats_prions', 'posrats_skuas'],\n",
       " ['posrats_tussock', 'posrats_mice', 'posrats_rabbits'],\n",
       " ['negrats_rabbits', 'negrats_burrowSeabirds', 'posrats_tussock'],\n",
       " ['negrats_penguins', 'negrats_skuas', 'negrats_tussock'],\n",
       " ['negrats_rabbits', 'posrats_tussock', 'negrats_skuas'],\n",
       " ['posrats_skuas', 'posrats_petrels', 'negrats_tussock'],\n",
       " ['posrats_redpolls', 'posrats_mice', 'posrats_rabbits'],\n",
       " ['posrats_tussock', 'negrats_petrels', 'negrats_skuas'],\n",
       " ['negrats_tussock', 'posrats_burrowSeabirds', 'posrats_rabbits'],\n",
       " ['negrats_macroInverts', 'posrats_mice', 'posrats_rabbits'],\n",
       " ['posrats_albatrosses', 'negrats_tussock', 'posrats_rabbits'],\n",
       " ['posrats_skuas', 'negrats_tussock', 'posrats_rabbits'],\n",
       " ['posrats_tussock', 'posrats_skuas', 'posrats_penguins'],\n",
       " ['negrats_rabbits', 'posrats_tussock', 'negrats_albatrosses'],\n",
       " ['negrats_rabbits',\n",
       "  'posrats_tussock',\n",
       "  'negrats_redpolls',\n",
       "  'posrats_macroInverts'],\n",
       " ['negrats_macroInverts',\n",
       "  'posrats_redpolls',\n",
       "  'negrats_tussock',\n",
       "  'posrats_rabbits'],\n",
       " ['posrats_petrels',\n",
       "  'posrats_mice',\n",
       "  'posrats_macroInverts',\n",
       "  'posrats_redpolls',\n",
       "  'negrats_albatrosses'],\n",
       " ['posrats_petrels',\n",
       "  'posrats_mice',\n",
       "  'posrats_burrowSeabirds',\n",
       "  'posrats_redpolls',\n",
       "  'negrats_albatrosses'],\n",
       " ['posrats_mice',\n",
       "  'posrats_burrowSeabirds',\n",
       "  'posrats_macroInverts',\n",
       "  'posrats_redpolls',\n",
       "  'negrats_albatrosses',\n",
       "  'negrats_skuas']]"
      ]
     },
     "execution_count": 27,
     "metadata": {},
     "output_type": "execute_result"
    }
   ],
   "source": [
    "PCUList"
   ]
  },
  {
   "cell_type": "code",
   "execution_count": null,
   "metadata": {},
   "outputs": [],
   "source": []
  }
 ],
 "metadata": {
  "kernelspec": {
   "display_name": "Python 3",
   "language": "python",
   "name": "python3"
  },
  "language_info": {
   "codemirror_mode": {
    "name": "ipython",
    "version": 3
   },
   "file_extension": ".py",
   "mimetype": "text/x-python",
   "name": "python",
   "nbconvert_exporter": "python",
   "pygments_lexer": "ipython3",
   "version": "3.6.7"
  }
 },
 "nbformat": 4,
 "nbformat_minor": 2
}
