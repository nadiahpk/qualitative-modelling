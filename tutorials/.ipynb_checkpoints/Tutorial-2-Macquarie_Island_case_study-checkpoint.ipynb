{
 "cells": [
  {
   "cell_type": "markdown",
   "metadata": {},
   "source": [
    "We define the Macquarie Island interaction network by the species present, the interactions between them, and the signs of these interactions. The network structure is encoded as a `networkx` digraph. The function `initialise_foodweb` stores the signs of the interactions in the edge data dictionary. The network can be drawn using `draw_foodweb`."
   ]
  },
  {
   "cell_type": "code",
   "execution_count": 90,
   "metadata": {},
   "outputs": [
    {
     "data": {
      "text/plain": [
       "0"
      ]
     },
     "execution_count": 90,
     "metadata": {},
     "output_type": "execute_result"
    }
   ],
   "source": [
    "from qualmod import initialise_foodweb, draw_foodweb\n",
    "from qualmod import qualitative_community_matrix, get_conditions_lists\n",
    "import numpy as np\n",
    "import time\n",
    "\n",
    "from IPython.display import Image\n",
    "import os\n",
    "\n",
    "sppList = [ \n",
    "    'albatrosses',\n",
    "    'prions',\n",
    "    'burrowSeabirds',\n",
    "    'petrels',\n",
    "    'herbfield',\n",
    "    'macroInverts',\n",
    "    'mice',\n",
    "    'penguins',\n",
    "    'rabbits',\n",
    "    'rats',\n",
    "    'redpolls',\n",
    "    'skuas',\n",
    "    'surfaceSeabirds',\n",
    "    'tussock',\n",
    "]\n",
    "\n",
    "# key is recipient of positive effect\n",
    "positive_edges_dict = {\n",
    "    'prions':           ['grassland'],\n",
    "    'skuas':            ['prions','burrowSeabirds','rabbits','penguins'],\n",
    "    'petrels':          ['penguins','tussock','grassland'],\n",
    "    'mice':             ['herbfield','macroInverts','tussock'],\n",
    "    'rats':             ['macroInverts','herbfield','tussock'],\n",
    "    'burrowSeabirds':   ['tussock'],\n",
    "    'rabbits':          ['tussock','herbfield','grassland'],\n",
    "    'macroInverts':     ['herbfield','grassland','tussock'],\n",
    "    'albatrosses':      ['tussock','herbfield'],\n",
    "    'redpolls':         ['macroInverts','tussock','herbfield','grassland'],\n",
    "}\n",
    "negative_edges_dict = {\n",
    "    'prions':           ['prions','skuas'],\n",
    "    'skuas':            ['skuas','tussock'],\n",
    "    'penguins':         ['penguins','skuas','petrels'],\n",
    "    'petrels':          ['petrels'],\n",
    "    'mice':             ['mice','rats'],\n",
    "    'rats':             ['rats'],\n",
    "    'burrowSeabirds':   ['burrowSeabirds','skuas','rabbits'],\n",
    "    'rabbits':          ['rabbits','skuas'],\n",
    "    'surfaceSeabirds':  ['surfaceSeabirds','rats'],\n",
    "    'macroInverts':     ['macroInverts','rats','mice','redpolls'],\n",
    "    'tussock':          ['tussock','mice','rats','rabbits'],\n",
    "    'albatrosses':      ['albatrosses'],\n",
    "    'herbfield':        ['herbfield','rabbits'],\n",
    "    'grassland':        ['grassland'],\n",
    "    'redpolls':         ['redpolls'],\n",
    "}\n",
    "\n",
    "web = initialise_foodweb(positive_edges_dict, negative_edges_dict)\n",
    "\n",
    "draw_foodweb(web, f_name = 'macq1.dot')\n",
    "# call graphviz to create a png, display in markdown cell\n",
    "os.system(\"dot -Tpng macq1.dot > macq1.png\")\n"
   ]
  },
  {
   "cell_type": "markdown",
   "metadata": {},
   "source": [
    "![title](macq1.png)\n",
    "Macquarie Island interaction network."
   ]
  },
  {
   "cell_type": "markdown",
   "metadata": {},
   "source": [
    "We encode the validation criteria (with respect to a positive perturbation of the rabbits)."
   ]
  },
  {
   "cell_type": "code",
   "execution_count": 74,
   "metadata": {},
   "outputs": [],
   "source": [
    "control_list = ['rabbits'] \n",
    "\n",
    "# Reponse to increase in rabbits\n",
    "validation = {\n",
    "    'rabbits': +1,          \n",
    "    'tussock': -1,\n",
    "}     \n"
   ]
  },
  {
   "cell_type": "markdown",
   "metadata": {},
   "source": [
    "We convert the interaction network into a qualitative community matrix, `Mq` below, using the function `qualitative_community_matrix`."
   ]
  },
  {
   "cell_type": "code",
   "execution_count": 78,
   "metadata": {},
   "outputs": [
    {
     "name": "stdout",
     "output_type": "stream",
     "text": [
      "[[-1.  0.  0.  1.  0.  0.  0.  0.  0.  0.  0.  0.  0.  0.  1.]\n",
      " [ 0. -1.  0.  0.  0.  0.  0.  0.  0. -1.  0.  0. -1.  0.  1.]\n",
      " [ 0.  0. -1.  0.  0.  0.  0.  0.  0.  0.  0.  0.  0.  0.  0.]\n",
      " [ 0.  0.  0. -1.  0.  0.  0.  0.  0. -1.  0.  0.  0.  0.  0.]\n",
      " [ 0.  0.  1.  1. -1. -1.  0.  0.  0.  0. -1. -1.  0.  0.  1.]\n",
      " [ 0.  0.  0.  1.  1. -1.  0.  0.  0.  0. -1.  0.  0.  0.  1.]\n",
      " [ 0.  0.  0.  0.  0.  0. -1. -1.  0.  0.  0.  0. -1.  0.  0.]\n",
      " [ 0.  0.  1.  0.  0.  0.  1. -1.  0.  0.  0.  0.  0.  0.  1.]\n",
      " [ 0.  0.  1.  0.  0.  0.  0.  0. -1.  0.  0.  0. -1.  0.  0.]\n",
      " [ 0.  0.  1.  1.  0.  0.  0.  0.  0. -1.  0.  0. -1.  0.  1.]\n",
      " [ 0.  0.  0.  1.  1.  0.  0.  0.  0.  0. -1.  0.  0.  0.  1.]\n",
      " [ 0.  0.  1.  1.  1.  0.  0.  0.  0.  0.  0. -1.  0.  0.  1.]\n",
      " [ 0.  1.  0.  0.  0.  0.  1.  0.  1.  1.  0.  0. -1.  0. -1.]\n",
      " [ 0.  0.  0.  0.  0.  0.  0.  0.  0.  0. -1.  0.  0. -1.  0.]\n",
      " [ 0.  0.  0.  0.  0. -1.  0.  0.  0. -1. -1.  0.  0.  0. -1.]]\n"
     ]
    }
   ],
   "source": [
    "sz = web.order()\n",
    "(Mq, s2idx) = qualitative_community_matrix(web)\n",
    "print(Mq)"
   ]
  },
  {
   "cell_type": "markdown",
   "metadata": {},
   "source": [
    "The `s2idx` returned is a bidirection dictionary that maps the name of the species to their index in the qualitative community matrix"
   ]
  },
  {
   "cell_type": "code",
   "execution_count": 79,
   "metadata": {},
   "outputs": [
    {
     "data": {
      "text/plain": [
       "'rabbits'"
      ]
     },
     "execution_count": 79,
     "metadata": {},
     "output_type": "execute_result"
    }
   ],
   "source": [
    "s2idx.inv[9]"
   ]
  },
  {
   "cell_type": "markdown",
   "metadata": {},
   "source": [
    "The validation conditions with respect to the indices of the qualitative matrix can be obtained using the function `get_conditions_list`."
   ]
  },
  {
   "cell_type": "code",
   "execution_count": 77,
   "metadata": {},
   "outputs": [
    {
     "name": "stdout",
     "output_type": "stream",
     "text": [
      "[(9, 1), (14, -1)]\n"
     ]
    }
   ],
   "source": [
    "# validation condition\n",
    "condn_idxs, condn = get_conditions_lists(s2idx, validation)\n",
    "\n",
    "print(list(zip(condn_idxs, condn)))"
   ]
  },
  {
   "cell_type": "markdown",
   "metadata": {},
   "source": [
    "To save time in this tutorial, I have hard-coded in the number of species-response combinations to be found, which is 36. If you do not know what the number is beforehand, you would use a line similar to the one commented-out above the start of the `while` loop.\n",
    "\n",
    "The `while` loop collects species response combinations using a parameter-value sweep of the model."
   ]
  },
  {
   "cell_type": "code",
   "execution_count": 91,
   "metadata": {},
   "outputs": [
    {
     "name": "stdout",
     "output_type": "stream",
     "text": [
      "time elapsed = 0.5220227241516113 seconds\n",
      "number of matrices sampled = 889\n",
      "last new combination found at t = 889\n"
     ]
    }
   ],
   "source": [
    "# Initialise collected responses with empty sets\n",
    "# Key is species perturbed and set will contain tuples of responses\n",
    "collectedResponses = {spp: set() for spp in control_list} \n",
    "\n",
    "t = 1\n",
    "t_last_updated = 0\n",
    "start_time = time.time()\n",
    "\n",
    "# use something like this if you don't \n",
    "# know the answer beforehand ~ 10 minutes\n",
    "# while t < 1e6: \n",
    "\n",
    "# I know there are 36 responses to find\n",
    "while len(collectedResponses['rabbits']) < 36:\n",
    "    \n",
    "    \n",
    "    # Find valid stable community matrix\n",
    "    valid = False\n",
    "\n",
    "    while not valid:\n",
    "    \n",
    "        # Find a random community matrix that is stable\n",
    "        maxEig = 1\n",
    "\n",
    "        while maxEig > 0:\n",
    "            M = np.multiply(np.random.random_sample((sz,sz)), Mq)\n",
    "            maxEig = max(np.real(np.linalg.eigvals(M)))\n",
    "\n",
    "        # Now have a stable matrix\n",
    "\n",
    "        # Find sensitivity matrix\n",
    "        Sq = - np.linalg.inv(M)\n",
    "\n",
    "        # Check validation criteria\n",
    "        valid = all(np.sign(Sq[condn_idxs,s2idx['rabbits']]) == condn)\n",
    "\n",
    "    # Now have a valid stable community matrix\n",
    "\n",
    "    for ps in control_list:\n",
    "\n",
    "        # NOTE: looking at increase in rabbits not decrease here\n",
    "        response = tuple('neg' if Sq[s2idx[ms],s2idx[ps]]<0 else 'pos' \n",
    "                         if Sq[s2idx[ms],s2idx[ps]]>0 else 'zer' \n",
    "                         for ms in sppList)\n",
    "\n",
    "        if response not in collectedResponses[ps]:\n",
    "\n",
    "            # fs[ps].write(','.join(response) + '\\n')\n",
    "            collectedResponses[ps].add(response)\n",
    "            t_last_updated = t\n",
    "\n",
    "    t += 1\n",
    "\n",
    "end_time = time.time()\n",
    "time_elapsed = end_time - start_time\n",
    "print('time elapsed = ' + str(time_elapsed) + ' seconds')\n",
    "print('number of matrices sampled = ' + str(t-1))\n",
    "print('last new combination found at t = ' + str(t_last_updated))\n"
   ]
  },
  {
   "cell_type": "markdown",
   "metadata": {},
   "source": [
    "The possible species-response combinations are now stored in `collectedResponses['rabbits']`. If more than one control-species is involved, then its name would be the key for the `collectedResponses` dictionary."
   ]
  },
  {
   "cell_type": "code",
   "execution_count": 95,
   "metadata": {},
   "outputs": [
    {
     "name": "stdout",
     "output_type": "stream",
     "text": [
      "alb pri bur pet her mac mic pen rab rat red sku sur tus\n",
      "neg pos neg neg neg pos neg pos pos pos neg neg neg neg\n",
      "neg pos neg neg neg neg neg pos pos neg neg neg pos neg\n",
      "neg neg neg neg neg neg neg neg pos neg neg pos pos neg\n",
      "neg neg neg neg neg neg pos pos pos neg neg pos pos neg\n",
      "neg pos neg neg neg pos pos pos pos neg pos neg pos neg\n",
      "neg pos neg neg neg pos neg pos pos pos pos neg neg neg\n",
      "neg pos neg pos neg pos neg pos pos neg pos neg pos neg\n",
      "neg pos neg pos neg pos pos pos pos neg neg neg pos neg\n",
      "neg pos neg pos neg pos pos pos pos pos neg neg neg neg\n",
      "neg pos neg pos neg neg pos pos pos neg neg neg pos neg\n",
      "neg pos neg pos neg pos neg pos pos pos neg neg neg neg\n",
      "neg pos neg pos neg neg neg pos pos neg neg neg pos neg\n",
      "neg neg neg neg neg neg pos neg pos neg neg pos pos neg\n",
      "neg pos neg pos neg pos neg pos pos neg neg neg pos neg\n",
      "neg pos neg pos neg pos pos pos pos neg pos neg pos neg\n",
      "neg neg neg neg neg neg neg pos pos neg neg pos pos neg\n",
      "neg pos neg neg neg pos pos pos pos pos neg neg neg neg\n",
      "neg pos neg neg neg neg pos pos pos neg neg neg pos neg\n",
      "neg neg neg neg neg pos pos pos pos pos neg pos neg neg\n",
      "neg neg neg neg neg pos neg neg pos pos neg pos neg neg\n",
      "neg neg neg neg neg pos neg pos pos pos pos pos neg neg\n",
      "neg pos neg pos neg pos neg pos pos pos pos neg neg neg\n",
      "neg neg neg neg neg pos neg pos pos pos neg pos neg neg\n",
      "neg neg neg neg neg pos neg neg pos pos pos pos neg neg\n",
      "neg neg neg neg neg pos pos neg pos pos neg pos neg neg\n",
      "neg neg neg neg neg pos pos pos pos neg neg pos pos neg\n",
      "neg neg neg neg neg pos neg neg pos neg neg pos pos neg\n",
      "neg pos neg neg neg pos pos pos pos neg neg neg pos neg\n",
      "neg pos neg neg neg pos neg pos pos neg pos neg pos neg\n",
      "neg neg neg neg neg pos pos neg pos neg neg pos pos neg\n",
      "neg neg neg neg neg pos neg pos pos neg neg pos pos neg\n",
      "neg neg neg neg neg pos pos pos pos neg pos pos pos neg\n",
      "neg neg neg neg neg pos neg neg pos neg pos pos pos neg\n",
      "neg neg neg neg neg pos neg pos pos neg pos pos pos neg\n",
      "neg neg neg neg neg pos pos neg pos neg pos pos pos neg\n",
      "neg pos neg neg neg pos neg pos pos neg neg neg pos neg\n"
     ]
    }
   ],
   "source": [
    "print( ' '.join([ ss[:3] for ss in sppList]))\n",
    "for response in collectedResponses['rabbits']:\n",
    "    print(' '.join(response))"
   ]
  },
  {
   "cell_type": "markdown",
   "metadata": {},
   "source": [
    "At this point in the process, it is a good idea to write the model responses. Here we write them to a csv file."
   ]
  },
  {
   "cell_type": "code",
   "execution_count": 96,
   "metadata": {},
   "outputs": [
    {
     "name": "stdout",
     "output_type": "stream",
     "text": [
      "['rabbits_albatrosses', 'rabbits_prions', 'rabbits_burrowSeabirds', 'rabbits_petrels', 'rabbits_herbfield', 'rabbits_macroInverts', 'rabbits_mice', 'rabbits_penguins', 'rabbits_rabbits', 'rabbits_rats', 'rabbits_redpolls', 'rabbits_skuas', 'rabbits_surfaceSeabirds', 'rabbits_tussock']\n"
     ]
    }
   ],
   "source": [
    "# write output files\n",
    "\n",
    "fs = {ps: open('uniques_web1_' + ps + '.csv', 'w') \n",
    "      for ps in control_list}\n",
    "\n",
    "for ps in control_list:\n",
    "    \n",
    "    header = [ps + '_' + ms for ms in sppList]\n",
    "    fs[ps].write(','.join(header) + '\\n')\n",
    "    \n",
    "    for response in collectedResponses[ps]:\n",
    "        \n",
    "        fs[ps].write(','.join(response) + '\\n')\n",
    "        \n",
    "    fs[ps].close()\n",
    "    \n",
    "print(header)"
   ]
  },
  {
   "cell_type": "markdown",
   "metadata": {},
   "source": [
    "From here onwards, we will be performing the Boolean analysis on the species responses that were found in the model.\n",
    "\n",
    "We read in the responses from the csv file that was written previously."
   ]
  },
  {
   "cell_type": "code",
   "execution_count": 92,
   "metadata": {},
   "outputs": [
    {
     "data": {
      "text/plain": [
       "['rabbits_albatrosses',\n",
       " 'rabbits_prions',\n",
       " 'rabbits_burrowSeabirds',\n",
       " 'rabbits_petrels',\n",
       " 'rabbits_herbfield',\n",
       " 'rabbits_macroInverts',\n",
       " 'rabbits_mice',\n",
       " 'rabbits_penguins',\n",
       " 'rabbits_rabbits',\n",
       " 'rabbits_rats',\n",
       " 'rabbits_redpolls',\n",
       " 'rabbits_skuas',\n",
       " 'rabbits_surfaceSeabirds',\n",
       " 'rabbits_tussock']"
      ]
     },
     "execution_count": 92,
     "metadata": {},
     "output_type": "execute_result"
    }
   ],
   "source": [
    "import csv\n",
    "from pyeda.inter import espresso_exprs\n",
    "from findpcu import getUnobservedInts, getRespvarList2BoolvarList\n",
    "from findpcu import intList2boolexpr, boolexpr2RespvalList\n",
    "\n",
    "fInName = ('uniques_web1_rabbits.csv')\n",
    "str4true = 'pos'\n",
    "str4false = 'neg'\n",
    "\n",
    "\n",
    "fIn = open(fInName)\n",
    "csv_f = csv.reader(fIn)\n",
    "allResponses = next(csv_f) # get the header\n",
    "fIn.close()\n",
    "\n",
    "allResponses\n"
   ]
  },
  {
   "cell_type": "markdown",
   "metadata": {},
   "source": [
    "We already know that the response of tussock to rabbits will be negative, so we write a list of desired responses, in the same order as `allResponses`, that omits tussock. The `desiredResponses` list is converted into a Boolean mask, and passed to the function `unobservedInts`, which uses the list of observed responses and desired responses to return a list of unobserved responses as a list of integers."
   ]
  },
  {
   "cell_type": "code",
   "execution_count": 97,
   "metadata": {},
   "outputs": [],
   "source": [
    "# skip tussock, because its response was a validation criterion\n",
    "desiredResponses = [\n",
    "    'rabbits_albatrosses',\n",
    "    'rabbits_prions',\n",
    "    'rabbits_burrowSeabirds',\n",
    "    'rabbits_petrels',\n",
    "    'rabbits_herbfield',\n",
    "    'rabbits_macroInverts',\n",
    "    'rabbits_mice',\n",
    "    'rabbits_penguins',\n",
    "    'rabbits_rats',\n",
    "    'rabbits_redpolls',\n",
    "    'rabbits_skuas',\n",
    "    'rabbits_surfaceSeabirds']\n",
    "\n",
    "boolLen = len(desiredResponses)\n",
    "\n",
    "# A mask to take out only those entries in our desiredResponses\n",
    "desiredResponsesMask = [True if aR in desiredResponses \n",
    "                        else False for aR in allResponses]\n",
    "\n",
    "unobservedInts = getUnobservedInts(fInName, \n",
    "                                   desiredResponsesMask, \n",
    "                                   boolLen, str4true)"
   ]
  },
  {
   "cell_type": "code",
   "execution_count": 85,
   "metadata": {},
   "outputs": [
    {
     "data": {
      "text/plain": [
       "4060"
      ]
     },
     "execution_count": 85,
     "metadata": {},
     "output_type": "execute_result"
    }
   ],
   "source": [
    "len(unobservedInts)"
   ]
  },
  {
   "cell_type": "markdown",
   "metadata": {},
   "source": [
    "The function `getRespvarList2BoolvarList` is used to convert the possible species-responses in the model into Boolean variables. It uses the PyEDA package (https://pyeda.readthedocs.io/en/latest/).\n",
    "\n",
    "The function `intList2boolexpr` turns the list of integers `unobservedInts`, corresponding to unobserved species responses, into a Boolean expression."
   ]
  },
  {
   "cell_type": "code",
   "execution_count": 98,
   "metadata": {},
   "outputs": [],
   "source": [
    "# Create our boolean variables and some useful dictionaries\n",
    "x, x2s, r2idx = getRespvarList2BoolvarList(desiredResponses, \n",
    "                                           str4true, str4false)\n",
    "\n",
    "# Turn each integer representing unobserved into a\n",
    "# into boolean expression \n",
    "unobservedBoolexpr = intList2boolexpr(unobservedInts, x)\n"
   ]
  },
  {
   "cell_type": "markdown",
   "metadata": {},
   "source": [
    "The function `espresso_exprs`, imported from PyEDA, is used to perform the Boolean minimisation."
   ]
  },
  {
   "cell_type": "code",
   "execution_count": 87,
   "metadata": {},
   "outputs": [
    {
     "name": "stdout",
     "output_type": "stream",
     "text": [
      "1.2536895275115967\n"
     ]
    }
   ],
   "source": [
    "start_time = time.time()\n",
    "\n",
    "boolExprMin, = espresso_exprs(unobservedBoolexpr)\n",
    "\n",
    "end_time = time.time()\n",
    "time_elapsed = end_time - start_time # ~ 1 second\n",
    "print(str(time_elapsed))\n"
   ]
  },
  {
   "cell_type": "markdown",
   "metadata": {},
   "source": [
    "This results in a Boolean expression that summarises the species responses that were not observed in the parameter-sweep of the model, and are assumed to be impossible."
   ]
  },
  {
   "cell_type": "code",
   "execution_count": 88,
   "metadata": {},
   "outputs": [
    {
     "data": {
      "text/plain": [
       "Or(rabbits_albatrosses, rabbits_burrowSeabirds, rabbits_herbfield, And(rabbits_mice, rabbits_redpolls, ~rabbits_surfaceSeabirds), And(~rabbits_rats, ~rabbits_surfaceSeabirds), And(rabbits_petrels, rabbits_skuas), And(~rabbits_macroInverts, rabbits_redpolls), And(~rabbits_prions, ~rabbits_skuas), And(~rabbits_macroInverts, ~rabbits_surfaceSeabirds), And(rabbits_prions, rabbits_skuas), And(rabbits_rats, rabbits_surfaceSeabirds), And(~rabbits_penguins, ~rabbits_skuas))"
      ]
     },
     "execution_count": 88,
     "metadata": {},
     "output_type": "execute_result"
    }
   ],
   "source": [
    "boolExprMin"
   ]
  },
  {
   "cell_type": "markdown",
   "metadata": {},
   "source": [
    "The function `boolexpr2RespvalList` converts each of the PCUs into a list of strings, which can be useful if we wish to store the results in a file, and is easier to read."
   ]
  },
  {
   "cell_type": "code",
   "execution_count": 89,
   "metadata": {},
   "outputs": [
    {
     "data": {
      "text/plain": [
       "[['posrabbits_burrowSeabirds'],\n",
       " ['posrabbits_albatrosses'],\n",
       " ['posrabbits_herbfield'],\n",
       " ['negrabbits_surfaceSeabirds', 'negrabbits_rats'],\n",
       " ['negrabbits_penguins', 'negrabbits_skuas'],\n",
       " ['negrabbits_macroInverts', 'posrabbits_redpolls'],\n",
       " ['posrabbits_skuas', 'posrabbits_petrels'],\n",
       " ['negrabbits_skuas', 'negrabbits_prions'],\n",
       " ['posrabbits_prions', 'posrabbits_skuas'],\n",
       " ['posrabbits_rats', 'posrabbits_surfaceSeabirds'],\n",
       " ['negrabbits_macroInverts', 'negrabbits_surfaceSeabirds'],\n",
       " ['posrabbits_redpolls', 'negrabbits_surfaceSeabirds', 'posrabbits_mice']]"
      ]
     },
     "execution_count": 89,
     "metadata": {},
     "output_type": "execute_result"
    }
   ],
   "source": [
    "PCUList = boolexpr2RespvalList(boolExprMin, x2s)\n",
    "PCUList"
   ]
  },
  {
   "cell_type": "markdown",
   "metadata": {},
   "source": [
    "The `PCUList` form is also used as an input to the `draw_implication_network` function, which draws all logical implications resulting from the Boolean minimisation in their single-antecedent form."
   ]
  },
  {
   "cell_type": "code",
   "execution_count": 100,
   "metadata": {},
   "outputs": [
    {
     "name": "stdout",
     "output_type": "stream",
     "text": [
      "uniques_web1_rabbits_pcus.pdf has been created\n"
     ]
    },
    {
     "data": {
      "text/plain": [
       "0"
      ]
     },
     "execution_count": 100,
     "metadata": {},
     "output_type": "execute_result"
    }
   ],
   "source": [
    "import os\n",
    "from findpcu import draw_implication_network\n",
    "\n",
    "niceNames = {\n",
    "        'rabbits': 'rabbits',\n",
    "        'petrels': 'petrels',\n",
    "        'mice': 'mice',\n",
    "        'burrowSeabirds': 'burrow-nest seabirds',\n",
    "        'macroInverts': 'macroinvertebrates',\n",
    "        'herbfield': 'herbfield',\n",
    "        'redpolls': 'redpolls',\n",
    "        'skuas': 'skuas',\n",
    "        'rats': 'rats',\n",
    "        'surfaceSeabirds': 'surface-nest seabirds',\n",
    "        'penguins': 'penguins',\n",
    "        'prions': 'prions',\n",
    "        'albatrosses': 'albatrosses',\n",
    "        'tussock': 'tussock'\n",
    "        }\n",
    "\n",
    "controlSymbol = '&darr; '\n",
    "\n",
    "draw_implication_network(PCUList, \n",
    "                         'uniques_web1_rabbits_pcus', \n",
    "                         niceNames, controlSymbol)\n",
    "\n",
    "# call graphviz to create a png, display in markdown cell\n",
    "cmd = \"dot -Tpng uniques_web1_rabbits_pcus.dot > uniques_web1_rabbits_pcus.png\"\n",
    "os.system( cmd )\n"
   ]
  },
  {
   "cell_type": "markdown",
   "metadata": {},
   "source": [
    "![title](uniques_web1_rabbits_pcus.png)\n",
    "Implication network."
   ]
  },
  {
   "cell_type": "code",
   "execution_count": null,
   "metadata": {},
   "outputs": [],
   "source": []
  }
 ],
 "metadata": {
  "kernelspec": {
   "display_name": "Python 3",
   "language": "python",
   "name": "python3"
  },
  "language_info": {
   "codemirror_mode": {
    "name": "ipython",
    "version": 3
   },
   "file_extension": ".py",
   "mimetype": "text/x-python",
   "name": "python",
   "nbconvert_exporter": "python",
   "pygments_lexer": "ipython3",
   "version": "3.6.7"
  }
 },
 "nbformat": 4,
 "nbformat_minor": 2
}
