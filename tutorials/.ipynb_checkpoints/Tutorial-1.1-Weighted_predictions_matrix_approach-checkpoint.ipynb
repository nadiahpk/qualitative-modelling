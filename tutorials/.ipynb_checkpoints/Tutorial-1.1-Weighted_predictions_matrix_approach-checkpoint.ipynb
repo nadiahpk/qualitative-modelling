{
 "cells": [
  {
   "cell_type": "markdown",
   "metadata": {},
   "source": [
    "# Weighted-predictions matrix\n",
    "\n",
    "The weighted-predictions matrix, $W$, \n",
    "introduced by [Dambacher et al. (2002)](https://doi.org/10.1890/0012-9658%282002%29083[1372:ROCSIA]2.0.CO;2),\n",
    "summarises the positive and negative effects of a press-perturbation on species in an interaction network.\n",
    "In this tutorial, we obtain $W$ for the species interaction network below (`fivevariable2.png`), and use it to predict the effects of a negative press-perturbation of species 3 on species 3, 4, and 5 in the network below. This example is also used in Fig. 2 in the main test of the paper and Supplement A. "
   ]
  },
  {
   "cell_type": "code",
   "execution_count": 1,
   "metadata": {},
   "outputs": [],
   "source": [
    "from IPython.display import IFrame\n",
    "from IPython.display import Image\n",
    "import os\n",
    "\n",
    "# display the interaction network used in the example\n",
    "#IFrame(\"fivevariable2.pdf\", width=500, height=400)"
   ]
  },
  {
   "cell_type": "markdown",
   "metadata": {},
   "source": [
    "![title](fivevariable2.png)\n",
    "`fivevariable2.png`"
   ]
  },
  {
   "cell_type": "markdown",
   "metadata": {},
   "source": [
    "## Obtain the weighted-predictions matrix\n",
    "\n",
    "### Step 1: Create the qualitative community matrix\n",
    "\n",
    "It is convenient to start by encoding the interaction network in a flexible way. Below, we specify:\n",
    "* `spp_list`, a list of species names;\n",
    "* `positive_edges_dict`, a dictionary that specifies the positive interactions between species; and \n",
    "* `negative_edges_dict`, a dictionary that specifies the negative interactions between species."
   ]
  },
  {
   "cell_type": "code",
   "execution_count": 2,
   "metadata": {},
   "outputs": [],
   "source": [
    "#\n",
    "spp_list = ['s1','s2','s3','s4','s5']\n",
    "\n",
    "# key is recipient of a positive effect\n",
    "positive_edges_dict = {\n",
    "'s5': ['s4'],\n",
    "'s3': ['s2', 's4', 's5'],\n",
    "}\n",
    "\n",
    "# key is recipient of a negative effect\n",
    "negative_edges_dict = {\n",
    "'s5': ['s5'],\n",
    "'s4': ['s4', 's5', 's3'],\n",
    "'s3': ['s3'],\n",
    "'s2': ['s2', 's1', 's3'],\n",
    "'s1': ['s1', 's2'],\n",
    "}"
   ]
  },
  {
   "cell_type": "markdown",
   "metadata": {},
   "source": [
    "Because we will be working with matrices, the first step is to assign each species name to an index in the matrix."
   ]
  },
  {
   "cell_type": "code",
   "execution_count": 3,
   "metadata": {},
   "outputs": [
    {
     "data": {
      "text/plain": [
       "{'s1': 0, 's2': 1, 's3': 2, 's4': 3, 's5': 4}"
      ]
     },
     "execution_count": 3,
     "metadata": {},
     "output_type": "execute_result"
    }
   ],
   "source": [
    "sz = len(spp_list) # the number of species\n",
    "\n",
    "# a dictionary that maps from a species' name to its index in the\n",
    "# matrix\n",
    "spp2idx = { spp_name: idx \n",
    "           for idx, spp_name in enumerate(spp_list) }\n",
    "spp2idx"
   ]
  },
  {
   "cell_type": "markdown",
   "metadata": {},
   "source": [
    "The qualitative community matrix, denoted $^\\circ A$ in Dambacher et al. (2002), has a `-1` for negative species interactions, `+1` for positive interactions, and `0` otherwise. So we use the edges dictionaries together with the `spp2idx` dictionary to populate the qualitative community matrix, `Aq`, with zeros, ones, and negative ones accordingly."
   ]
  },
  {
   "cell_type": "code",
   "execution_count": 4,
   "metadata": {},
   "outputs": [
    {
     "data": {
      "text/plain": [
       "[-1 -1  0  0  0]\n",
       "[-1 -1 -1  0  0]\n",
       "[ 0  1 -1  1  1]\n",
       "[ 0  0 -1 -1 -1]\n",
       "[ 0  0  0  1 -1]"
      ]
     },
     "execution_count": 4,
     "metadata": {},
     "output_type": "execute_result"
    }
   ],
   "source": [
    "Aq = matrix(QQ, sz, sz)\n",
    "\n",
    "\n",
    "for recipient, giverList in positive_edges_dict.items():\n",
    "    for giver in giverList:\n",
    "        Aq[ spp2idx[recipient], spp2idx[giver]] = 1\n",
    "\n",
    "for recipient, giverList in negative_edges_dict.items():\n",
    "    for giver in giverList:\n",
    "        Aq[ spp2idx[recipient], spp2idx[giver]] = -1\n",
    "\n",
    "Aq"
   ]
  },
  {
   "cell_type": "markdown",
   "metadata": {},
   "source": [
    "### Step 2: Find the adjoint of the qualitative community matrix\n",
    "\n",
    "The classical adjoint or adjugate of the qualitative community matrix, \n",
    "$\\text{adj}(-^\\circ A)$, provides an analogue of the sensitivity matrix\n",
    "\n",
    "$$\n",
    "-^\\circ A^{-1} = \n",
    "\\frac{\\text{adj}(-^\\circ A)}{\\text{det}(-^\\circ A)}\n",
    "$$\n",
    "\n",
    "where $\\text{det}()$ is the determinant, and $\\text{adj}()$ is the classical adjoint or adjugate. It equally weights each feedback loop between species in the system (magnitude $=1$ for all), and counts the sum of those positive (+1) and negative (-1) feedbacks."
   ]
  },
  {
   "cell_type": "code",
   "execution_count": 5,
   "metadata": {},
   "outputs": [
    {
     "data": {
      "text/plain": [
       "[ 6 -4  2  2  0]\n",
       "[-4  4 -2 -2  0]\n",
       "[-2  2  0  0  0]\n",
       "[ 1 -1  0  1 -1]\n",
       "[ 1 -1  0  1  1]"
      ]
     },
     "execution_count": 5,
     "metadata": {},
     "output_type": "execute_result"
    }
   ],
   "source": [
    "adj = (-Aq).adjoint()\n",
    "adj"
   ]
  },
  {
   "cell_type": "markdown",
   "metadata": {},
   "source": [
    "Because the elements in $\\text{adj}(-^\\circ A)$ are the sum of positive and negative feedbacks, their signs are indicative of the response of each row-species to a negative press-perturbation of each column-species. For example (taken from Dambacher et al. (2002)), if there are 4 positive feedback loops between two species, then this would result in an element with value $+4$. However, an element with value $+4$ may also result from 44 positive and 40 negative loops, or 6 positive and 2 negative loops, etc. Because the elements are a simple sum, more information is needed to interpret the result probabilistically; additionally, we need to know what the total number of feedback loops is.\n",
    "\n",
    "\n",
    "### Step 3: Find the absolute feedback matrix from the binary community matrix\n",
    "\n",
    "To obtain the total number of feedback loops, we first create the binary community matrix.\n",
    "The binary community matrix, $^\\bullet A$, has a `+1` for any interaction between species, regardless of its sign, and a `0` otherwise."
   ]
  },
  {
   "cell_type": "code",
   "execution_count": 6,
   "metadata": {},
   "outputs": [
    {
     "data": {
      "text/plain": [
       "[1 1 0 0 0]\n",
       "[1 1 1 0 0]\n",
       "[0 1 1 1 1]\n",
       "[0 0 1 1 1]\n",
       "[0 0 0 1 1]"
      ]
     },
     "execution_count": 6,
     "metadata": {},
     "output_type": "execute_result"
    }
   ],
   "source": [
    "# create binary community matrix\n",
    "Ab = matrix(QQ, Aq.nrows(), Aq.ncols())\n",
    "for position in Aq.nonzero_positions():\n",
    "    Ab[position] = 1\n",
    "Ab"
   ]
  },
  {
   "cell_type": "markdown",
   "metadata": {},
   "source": [
    "The total count of feedback loops is then obtained from the absolute feedback matrix, $T$.\n",
    "$T$ is obtained from $^\\bullet A$\n",
    "\n",
    "$$\n",
    "T_{ji} = \\text{per} ( \\text{min} \\: ^\\bullet A_{ij}),\n",
    "$$\n",
    "\n",
    "where `per' is the matrix permanent,\n",
    "and where $\\text{min} \\: ^\\bullet A_{ij}$ is the submatrix found by removing row $i$ and column $j$ of $^\\bullet A$.\n",
    "The matrix permanent is calculated in a similar way to the determinant but with all terms in the sum having a positive sign."
   ]
  },
  {
   "cell_type": "code",
   "execution_count": 7,
   "metadata": {},
   "outputs": [
    {
     "data": {
      "text/plain": [
       "[6 4 2 2 2]\n",
       "[4 4 2 2 2]\n",
       "[2 2 4 4 4]\n",
       "[1 1 2 3 5]\n",
       "[1 1 2 3 5]"
      ]
     },
     "execution_count": 7,
     "metadata": {},
     "output_type": "execute_result"
    }
   ],
   "source": [
    "# absolute feedback matrix\n",
    "T = matrix(QQ,sz,sz)\n",
    "for row in range(sz):\n",
    "    for col in range(sz):\n",
    "        keeprows = range(sz)\n",
    "        keeprows.remove(row)\n",
    "        keepcols = range(sz)\n",
    "        keepcols.remove(col)\n",
    "        submatrix = Ab.matrix_from_rows_and_columns(keeprows, keepcols)\n",
    "        T[col,row] = submatrix.permanent()\n",
    "\n",
    "T\n"
   ]
  },
  {
   "cell_type": "markdown",
   "metadata": {},
   "source": [
    "### Step 4: Use the adjoint of the qualitative community matrix and the absolute feedback matrix to find the weighted-predictions matrix\n",
    "\n",
    "The weighted predictions matrix $W$ is calculated by dividing the absolute value of each element of the adjoint by the corresponding element of $T$\n",
    "\n",
    "$$\n",
    "W = \\text{abs}(\\text{adj}(-^\\circ A)) ./ T\n",
    "$$\n",
    "\n",
    "where $./$ indicates element-wise division. By convention, $W_{ij}$ is set to $1$ when $T_{ij} = 0$."
   ]
  },
  {
   "cell_type": "code",
   "execution_count": 8,
   "metadata": {},
   "outputs": [
    {
     "data": {
      "text/plain": [
       "[  1   1   1   1   0]\n",
       "[  1   1   1   1   0]\n",
       "[  1   1   0   0   0]\n",
       "[  1   1   0 1/3 1/5]\n",
       "[  1   1   0 1/3 1/5]"
      ]
     },
     "execution_count": 8,
     "metadata": {},
     "output_type": "execute_result"
    }
   ],
   "source": [
    "# absolute value of adjugate matrix\n",
    "abs_adj = adj.apply_map(abs) \n",
    "\n",
    "# element-wise fraction of the adjugate to the \n",
    "# absolute feedback matrix\n",
    "fnc = lambda x: 0 if x == 0 else 1/x\n",
    "W = abs_adj.elementwise_product(T.apply_map(fnc))\n",
    "\n",
    "# Though for independent species, \n",
    "# we set the weighted predictions matrix value to 1\n",
    "fnc = lambda x: x == 0\n",
    "for position in (T.find(fnc, indices=True)).iterkeys():\n",
    "    W[position] = 1\n",
    "W"
   ]
  },
  {
   "cell_type": "markdown",
   "metadata": {},
   "source": [
    "## Interpret the weighted predictions matrix\n",
    "\n",
    "From the analysis above, we have\n",
    "\n",
    "$$\n",
    "    \\text{adj}(-^\\circ A) =\n",
    "    \\begin{bmatrix}\n",
    "    +6 & -4&+2&+2& 0 \\\\\n",
    "    -4 & +4&-2&-2& 0 \\\\\n",
    "    -2 & +2& 0& 0& 0 \\\\\n",
    "    +1 & -1& 0&+1&-1 \\\\\n",
    "    +1 & -1& 0&+1&+1 \\\\\n",
    "    \\end{bmatrix},\n",
    "    \\:\n",
    "    T =\n",
    "    \\begin{bmatrix}\n",
    "     6&4&2&2&2 \\\\\n",
    "     4&4&2&2&2 \\\\\n",
    "     2&2&4&4&4 \\\\\n",
    "     1&1&2&3&5 \\\\\n",
    "     1&1&2&3&5 \\\\\n",
    "    \\end{bmatrix},\n",
    "    \\:\n",
    "        W = \\begin{bmatrix}\n",
    "     1 &    1 &    1 &    1 &    0 \\\\\n",
    "     1 &    1 &    1 &    1 &    0\\\\\n",
    "     1 &    1 &    0 &    0 &    0\\\\\n",
    "     1 &    1 &    0 &  1/3 &  1/5\\\\\n",
    "     1 &    1 &    0 &  1/3 &  1/5\\\\\n",
    "    \\end{bmatrix}\n",
    "$$\n",
    "\n",
    "As explained in Dambacher et al. (2002), the elements in $W$, ranging between 0 and 1, indicate the determinacy of the response sign prediction obtained from $\\text{adj}(-^\\circ A)$. A value of 1 indicates that all of the feedbacks between a row and column species are of the same sign. This means that the species response to a press perturbation, regardless of the specific interaction-strength values, is guaranteed to match the sign in $\\text{adj}(-^\\circ A)$. Values less than one indicate indeterminacy: there is a combination of positive and negative feedback loops between the species in the system, and so the species response may be positive or negative, depending upon the specific interaction-strength values. A value of 0 indicates either that there are no feedbacks between the row and column species (see convention above), or that the number of positive and negative feedbacks are equal.\n",
    "\n",
    "Dambacher et al. (2002) further interpreted the magnitude of $W_{ij} < 1$ values as indicative of the degree of indeterminacy in the species response. Based on Monte Carlo simulations, they recommended a threshold of $W_{ij} > 0.5$ as a general guideline for high ($\\approx 95$% or more) sign determinacy (Dambacher et al. 2001).\n",
    "$W_{ij} > 0.5$ corresponds to $>$ 75% of feedback loops having the same sign. Hosack et al. (2008) also used simulations, where interaction-strength values were sampled from various distributions, to obtain a relationship $W_{ij}$ and sign-determinacy.\n",
    "\n",
    "In the example in the paper, we are interested in predicting the effects of a negative press-perturbation of species 3 on species 3, 4, and 5. This corresponds to column 3, rows 3, 4, and 5 of the matrices above. In the weighted-predictions matrix, $W_{3,3} = W_{4,3} = W_{5,3} = 0$. Given that $T_{ij} \\neq 0$ for the corresponding elements, this means that the response signs are maximally indeterminate: there are an equal number of positive and negative feedbacks between the perturbed species 3 and the other species."
   ]
  },
  {
   "cell_type": "code",
   "execution_count": 9,
   "metadata": {},
   "outputs": [
    {
     "data": {
      "text/plain": [
       "[  1   0   1   1 1/2]\n",
       "[  0   1   0   0 1/2]\n",
       "[  0   1 1/2 1/2 1/2]\n",
       "[  1   0 1/2 2/3 2/5]\n",
       "[  1   0 1/2 2/3 3/5]"
      ]
     },
     "execution_count": 9,
     "metadata": {},
     "output_type": "execute_result"
    }
   ],
   "source": [
    "# the proportion of feedback loops that are positive\n",
    "fnc = lambda x: 0 if x == 0 else 1/x\n",
    "propn_pos = (1/2)*((adj+T).elementwise_product(T.apply_map(fnc)))\n",
    "propn_pos"
   ]
  },
  {
   "cell_type": "markdown",
   "metadata": {},
   "source": [
    "If the results of the weighted-predictions matrix analysis were interpreted probabilistically, then giving equal weighting to each feedback, the predictions are equivalent to coin flip between positive or negative response (c.f. Dambacher et al.'s (2002) 'old-field web' results)."
   ]
  },
  {
   "cell_type": "code",
   "execution_count": null,
   "metadata": {},
   "outputs": [],
   "source": []
  }
 ],
 "metadata": {
  "kernelspec": {
   "display_name": "SageMath 8.1",
   "language": "",
   "name": "sagemath"
  },
  "language_info": {
   "codemirror_mode": {
    "name": "ipython",
    "version": 2
   },
   "file_extension": ".py",
   "mimetype": "text/x-python",
   "name": "python",
   "nbconvert_exporter": "python",
   "pygments_lexer": "ipython2",
   "version": "2.7.15rc1"
  }
 },
 "nbformat": 4,
 "nbformat_minor": 2
}
