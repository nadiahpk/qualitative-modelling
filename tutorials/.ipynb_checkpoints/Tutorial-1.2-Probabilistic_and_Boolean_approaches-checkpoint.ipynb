{
 "cells": [
  {
   "cell_type": "markdown",
   "metadata": {},
   "source": [
    "\n",
    "# Define the species interaction network\n",
    "\n",
    "We wish to define the species interaction network used in the example in the paper. We can define the network by the species present (`s1`, `s2`, etc. below), the interactions between them, and the signs of these interactions. \n"
   ]
  },
  {
   "cell_type": "code",
   "execution_count": 8,
   "metadata": {},
   "outputs": [],
   "source": [
    "# spp_list = ['s1','s2','s3','s4','s5']\n",
    "\n",
    "# key is recipient of a positive effect\n",
    "positive_edges_dict = {\n",
    "'s5': ['s4'],\n",
    "'s3': ['s2', 's4', 's5'],\n",
    "}\n",
    "\n",
    "# key is recipient of a negative effect\n",
    "negative_edges_dict = {\n",
    "'s5': ['s5'],\n",
    "'s4': ['s4', 's5', 's3'],\n",
    "'s3': ['s3'],\n",
    "'s2': ['s2', 's1', 's3'],\n",
    "'s1': ['s1', 's2'],\n",
    "}"
   ]
  },
  {
   "cell_type": "markdown",
   "metadata": {},
   "source": [
    "The network structure is encoded as a `networkx` digraph. The function `initialise_foodweb` stores the signs of the interactions in the edge data dictionary."
   ]
  },
  {
   "cell_type": "code",
   "execution_count": 9,
   "metadata": {},
   "outputs": [
    {
     "name": "stdout",
     "output_type": "stream",
     "text": [
      "('s5', 's5', {'color': 'red', 'sign': -1})\n",
      "('s5', 's4', {'color': 'red', 'sign': -1})\n",
      "('s5', 's3', {'color': 'green', 'sign': 1})\n",
      "('s4', 's4', {'color': 'red', 'sign': -1})\n",
      "('s4', 's5', {'color': 'green', 'sign': 1})\n",
      "('s4', 's3', {'color': 'green', 'sign': 1})\n",
      "('s3', 's4', {'color': 'red', 'sign': -1})\n",
      "('s3', 's3', {'color': 'red', 'sign': -1})\n",
      "('s3', 's2', {'color': 'red', 'sign': -1})\n",
      "('s2', 's2', {'color': 'red', 'sign': -1})\n",
      "('s2', 's1', {'color': 'red', 'sign': -1})\n",
      "('s2', 's3', {'color': 'green', 'sign': 1})\n",
      "('s1', 's2', {'color': 'red', 'sign': -1})\n",
      "('s1', 's1', {'color': 'red', 'sign': -1})\n"
     ]
    }
   ],
   "source": [
    "from qualmod import initialise_foodweb\n",
    "\n",
    "web = initialise_foodweb(positive_edges_dict, negative_edges_dict)\n",
    "\n",
    "# print edges\n",
    "for edge in web.edges(data=True):\n",
    "    print(edge)\n"
   ]
  },
  {
   "cell_type": "markdown",
   "metadata": {},
   "source": [
    "The package `networkx` provides a quick way to plot the interaction network."
   ]
  },
  {
   "cell_type": "code",
   "execution_count": 10,
   "metadata": {},
   "outputs": [
    {
     "data": {
      "image/png": "[encoded data removed]",
      "text/plain": [
       "<Figure size 432x288 with 1 Axes>"
      ]
     },
     "metadata": {},
     "output_type": "display_data"
    }
   ],
   "source": [
    "import networkx as nx\n",
    "import matplotlib.pyplot as plt\n",
    "\n",
    "pos=nx.spring_layout(web)\n",
    "nx.draw_networkx_labels(web, pos)\n",
    "nx.draw_networkx_nodes(web, \n",
    "                       pos, \n",
    "                       node_color = 'white', \n",
    "                       edgecolors='black', \n",
    "                       node_size=500)\n",
    "\n",
    "edge_colors = [ v[2]['color'] for v in web.edges(data=True) ]\n",
    "nx.draw_networkx_edges(web, \n",
    "                       pos, \n",
    "                       edge_color=edge_colors, \n",
    "                       arrows=True, \n",
    "                       arrowsize=40);\n",
    "plt.show()"
   ]
  },
  {
   "cell_type": "markdown",
   "metadata": {},
   "source": [
    "The package `qualmod` also includes a function that uses `graphviz` to draw the interaction network. This is useful if we want to create a `.pdf` of the network to embed in a document, etc."
   ]
  },
  {
   "cell_type": "code",
   "execution_count": 11,
   "metadata": {},
   "outputs": [
    {
     "data": {
      "text/plain": [
       "0"
      ]
     },
     "execution_count": 11,
     "metadata": {},
     "output_type": "execute_result"
    }
   ],
   "source": [
    "from qualmod import draw_foodweb\n",
    "from IPython.display import IFrame\n",
    "from IPython.display import Image\n",
    "import os\n",
    "\n",
    "# use draw_foodweb to create a graphviz dot file \n",
    "# defining the interaction network\n",
    "draw_foodweb(web, f_name = 'web.dot')\n",
    "\n",
    "# call graphviz externally to create a pdf of the \n",
    "# interaction network\n",
    "os.system(\"dot -Tpdf web.dot > web.pdf\")\n",
    "\n",
    "# display the pdf of the interaction network here in Jupyter\n",
    "# IFrame(\"web.pdf\", width=500, height=600)\n",
    "\n",
    "# call graphviz to create a png, display in \n",
    "# markdown cell\n",
    "os.system(\"dot -Tpng web.dot > web.png\")"
   ]
  },
  {
   "cell_type": "markdown",
   "metadata": {},
   "source": [
    "![title](web.png)\n",
    "\n",
    "`web.png`"
   ]
  },
  {
   "cell_type": "markdown",
   "metadata": {},
   "source": [
    "The interaction network can also be converted into a qualitative community matrix, `Mq` below, using the function `qualitative_community_matrix`."
   ]
  },
  {
   "cell_type": "code",
   "execution_count": 12,
   "metadata": {},
   "outputs": [
    {
     "name": "stdout",
     "output_type": "stream",
     "text": [
      "[[-1. -1.  0.  0.  0.]\n",
      " [-1. -1. -1.  0.  0.]\n",
      " [ 0.  1. -1.  1.  1.]\n",
      " [ 0.  0. -1. -1. -1.]\n",
      " [ 0.  0.  0.  1. -1.]]\n"
     ]
    }
   ],
   "source": [
    "from qualmod import qualitative_community_matrix\n",
    "\n",
    "(Mq, s2idx) = qualitative_community_matrix(web)\n",
    "print(Mq)"
   ]
  },
  {
   "cell_type": "markdown",
   "metadata": {},
   "source": [
    "The function `qualitative_community_matrix` also returns `s2idx`, which is a handy bidirection dictionary that maps the name of the species to their index in the qualitative community matrix."
   ]
  },
  {
   "cell_type": "code",
   "execution_count": 13,
   "metadata": {},
   "outputs": [
    {
     "name": "stdout",
     "output_type": "stream",
     "text": [
      "bidict({'s1': 0, 's2': 1, 's3': 2, 's4': 3, 's5': 4})\n",
      "0\n",
      "s1\n"
     ]
    }
   ],
   "source": [
    "print(s2idx)\n",
    "print(s2idx['s1'])\n",
    "print(s2idx.inv[0])"
   ]
  },
  {
   "cell_type": "markdown",
   "metadata": {},
   "source": [
    "# Randomly sampling perturbation responses / parameter sweep\n",
    "\n",
    "In the example in the paper, we are interested in the response of species `s3`, `s4`, and `s5` to a negative press-perturbation of species `s3`."
   ]
  },
  {
   "cell_type": "code",
   "execution_count": 14,
   "metadata": {},
   "outputs": [],
   "source": [
    "# which species is controlled \n",
    "# (i.e. perturbed e.g. by pest control program)\n",
    "control_list = ['s3']\n",
    "\n",
    "# the species we're interested in the responses of\n",
    "monitored_list = ['s3','s4','s5']"
   ]
  },
  {
   "cell_type": "markdown",
   "metadata": {},
   "source": [
    "In probabilistic Qualitative Modelling, the monitored species' response to the press-perturbation can be obtained using Monte Carlo simulation. The interaction-strength magnitudes in the community matrix are sampled from $a_{i,j} \\sim \\mathcal{U}(0,1)$, and the positive and negative responses are counted: `countResponses` below.\n",
    "\n",
    "In the Boolean approach, random sampling can also be used to do a parameter-value sweep of the model behaviour. The objective is to obtain a set, `observedResponseCombinations`, that lists every species-response combination that is possible, regardless of what the interaction-strength magnitudes are. Here note that, although we again sample from a uniform distribution, the choice is of distribution is somewhat arbitrary. So long as we obtain good-enough coverage of the parameter space that we obtain every possible response combination, then any sampling distribution can be used.\n",
    "\n",
    "In this example we apply only one plausibility criterion: the community matrix must be stable.\n",
    "\n",
    "The method uses the sensitivity matrix approach to obtain species responses (`Sq`)."
   ]
  },
  {
   "cell_type": "code",
   "execution_count": 15,
   "metadata": {},
   "outputs": [],
   "source": [
    "import numpy as np\n",
    "\n",
    "sz = Mq.shape[0] # size of the system, can also use sz = web.order()\n",
    "\n",
    "# initialise collected responses with empty sets\n",
    "observedResponseCombinations = set()\n",
    "\n",
    "# initialise counts of positive responses with zeros\n",
    "countResponses = np.array([0]*len(control_list)*len(monitored_list))\n",
    "\n",
    "noSamples = 100\n",
    "for n in range(noSamples): \n",
    "    \n",
    "    # find a random community matrix that is stable\n",
    "    maxEig = 1\n",
    "    while maxEig > 0:\n",
    "        \n",
    "        M = np.multiply( np.random.random_sample((sz,sz)), Mq )\n",
    "        maxEig = max(np.real(np.linalg.eigvals(M)))\n",
    "        \n",
    "    # find sensitivity matrix\n",
    "    Sq = - np.linalg.inv(M)\n",
    "\n",
    "    # find the signs of responses of each monitored species \n",
    "    # to perturbations in each control species\n",
    "    response = tuple(['neg' if Sq[s2idx[ms],s2idx[cs]]<0 else 'pos' \n",
    "                      for cs in control_list \n",
    "                      for ms in monitored_list ])\n",
    "    observedResponseCombinations.add(response) # add to our collection\n",
    "    \n",
    "    # add positive responses to count\n",
    "    posResponses = np.array([ 0 if Sq[s2idx[ms],s2idx[cs]]<0 else 1 \n",
    "                             for cs in control_list \n",
    "                             for ms in monitored_list ])\n",
    "    countResponses += posResponses # add to our count\n"
   ]
  },
  {
   "cell_type": "markdown",
   "metadata": {},
   "source": [
    "The two types of intermediate results are shown below:"
   ]
  },
  {
   "cell_type": "code",
   "execution_count": 16,
   "metadata": {},
   "outputs": [
    {
     "data": {
      "text/plain": [
       "array([85, 15, 15])"
      ]
     },
     "execution_count": 16,
     "metadata": {},
     "output_type": "execute_result"
    }
   ],
   "source": [
    "countResponses"
   ]
  },
  {
   "cell_type": "code",
   "execution_count": 17,
   "metadata": {},
   "outputs": [
    {
     "data": {
      "text/plain": [
       "{('neg', 'pos', 'pos'), ('pos', 'neg', 'neg')}"
      ]
     },
     "execution_count": 17,
     "metadata": {},
     "output_type": "execute_result"
    }
   ],
   "source": [
    "observedResponseCombinations"
   ]
  },
  {
   "cell_type": "markdown",
   "metadata": {},
   "source": [
    "# Probabilistic approach\n",
    "\n",
    "In the probabilistic approach, the proportions of responses giving positive or negative species response are interpreted probabilistically.\n",
    "\n",
    "In this example, probabilistic QM suggests stronger support for a positive response in species `s3`, and a negative response in species `s4` and `s5`."
   ]
  },
  {
   "cell_type": "code",
   "execution_count": 18,
   "metadata": {},
   "outputs": [
    {
     "data": {
      "image/png": "[encoded data removed]",
      "text/plain": [
       "<Figure size 432x288 with 1 Axes>"
      ]
     },
     "metadata": {},
     "output_type": "display_data"
    }
   ],
   "source": [
    "probabilityResponses = countResponses / noSamples\n",
    "\n",
    "plt.title('responses to a negative press perturbation of s3')\n",
    "plt.bar(range(len(monitored_list)), \n",
    "        probabilityResponses, \n",
    "        tick_label=monitored_list)\n",
    "plt.ylim((0,1))\n",
    "plt.ylabel('probability of a positive response')\n",
    "plt.xlabel('species')\n",
    "plt.show()"
   ]
  },
  {
   "cell_type": "markdown",
   "metadata": {},
   "source": [
    "# Boolean approach\n",
    "\n",
    "In the Boolean approach, the species response-combinations that the model predicts are interpreted using Boolean algebra.\n",
    "\n",
    "Two species-response combinations were observed during the parameter-value sweep (shown as a table below). It assumed that parameter sweep above was sufficient to obtain every possible combination."
   ]
  },
  {
   "cell_type": "code",
   "execution_count": 19,
   "metadata": {},
   "outputs": [
    {
     "name": "stdout",
     "output_type": "stream",
     "text": [
      "s3_s3 | s3_s4 | s3_s5\n",
      "---------------------\n",
      " pos  |  neg  |  neg\n",
      " neg  |  pos  |  pos\n"
     ]
    }
   ],
   "source": [
    "# the responses we'll be counting proportions on\n",
    "desiredResponses = [ cs + '_' + ms \n",
    "                    for cs in control_list \n",
    "                    for ms in monitored_list]\n",
    "\n",
    "# I have hardcoded the answer in here in case, by chance, \n",
    "# you miss a response combination in the random sampling above.\n",
    "# For a real example, you will need to check that a large no. \n",
    "# of samples has been drawn since the last new response \n",
    "# combination was found.\n",
    "\n",
    "if len(observedResponseCombinations) < 2:\n",
    "    observedResponseCombinations = {\n",
    "        ('neg', 'pos', 'pos'), \n",
    "        ('pos', 'neg', 'neg')\n",
    "    }\n",
    "\n",
    "# print the species response combinations that were observed \n",
    "# during the parameter sweep above in a table\n",
    "header = ' | '.join(desiredResponses)\n",
    "print(header)\n",
    "print('-'*len(header))\n",
    "for responseCombination in observedResponseCombinations:\n",
    "    print(' ' + '  |  '.join(responseCombination))"
   ]
  },
  {
   "cell_type": "markdown",
   "metadata": {},
   "source": [
    "In order to use Boolean algebra, we need to convert the species responses into Boolean values. This is easiest when the responses have a natural dichotimisation i.e. a positive or a negative species response. Arbitrarily, we assign a positive species response as a `true`, and a negative species response as a `false`."
   ]
  },
  {
   "cell_type": "code",
   "execution_count": 20,
   "metadata": {},
   "outputs": [],
   "source": [
    "str4true = 'pos'; str4false = 'neg'"
   ]
  },
  {
   "cell_type": "markdown",
   "metadata": {},
   "source": [
    "The simulations have returned the species-response combinations that are *possible* in the model, but the Boolean analysis is performed on the *impossible* combinations instead. Therefore we need to find the complement of the set of observed responses, i.e. the set of every response-combination that is combinatorially possible, minus the set of responses that we observed.\n",
    "\n",
    "There are a few different ways that we could obtain the complement, but one convenient way is to first observe that every response combination can be interpreted as a binary string. Then the complement corresponds to the list of integers that are missing from the set of integers that we observed.\n",
    "\n",
    "Each possible response is encoded as a binary string, and converted into an integer.\n"
   ]
  },
  {
   "cell_type": "code",
   "execution_count": 21,
   "metadata": {},
   "outputs": [
    {
     "data": {
      "text/plain": [
       "[4, 3]"
      ]
     },
     "execution_count": 21,
     "metadata": {},
     "output_type": "execute_result"
    }
   ],
   "source": [
    "observedInts = [ int(''.join(['1' if i in str4true \n",
    "                              else '0' for i in responseCombination]), 2) \n",
    "                for responseCombination in observedResponseCombinations ]\n",
    "observedInts"
   ]
  },
  {
   "cell_type": "markdown",
   "metadata": {},
   "source": [
    "Then the unobserved species responses correspond to the integers that are missing."
   ]
  },
  {
   "cell_type": "code",
   "execution_count": 26,
   "metadata": {},
   "outputs": [
    {
     "data": {
      "text/plain": [
       "{0, 1, 2, 5, 6, 7}"
      ]
     },
     "execution_count": 26,
     "metadata": {},
     "output_type": "execute_result"
    }
   ],
   "source": [
    "# Start with set of all possible responses as integers ...\n",
    "unobservedInts = set(range(2**len(desiredResponses)))\n",
    "# ... and loop through the observed response combinations, \n",
    "# discarding those that were observed\n",
    "\n",
    "for i in observedInts:\n",
    "    unobservedInts.discard(i)\n",
    "    \n",
    "unobservedInts"
   ]
  },
  {
   "cell_type": "markdown",
   "metadata": {},
   "source": [
    "The function `getRespvarList2BoolvarList` is used to convert the possible species-responses in the model into Boolean variables. It uses the PyEDA package (https://pyeda.readthedocs.io/en/latest/)."
   ]
  },
  {
   "cell_type": "code",
   "execution_count": 27,
   "metadata": {},
   "outputs": [],
   "source": [
    "from findpcu import getRespvarList2BoolvarList\n",
    "\n",
    "# create our boolean variables and some useful dictionaries\n",
    "x, x2s, r2idx = getRespvarList2BoolvarList(desiredResponses, \n",
    "                                           str4true, \n",
    "                                           str4false)"
   ]
  },
  {
   "cell_type": "markdown",
   "metadata": {},
   "source": [
    "`x` is a list of the Boolean variables that have been created. For example, `s3_s4` is the variable that describes the response of species s4 to a negative perturbation of s3. `s3_s4` has the value `True` if s4 responds positively and `False` if s4 responds negatively."
   ]
  },
  {
   "cell_type": "code",
   "execution_count": 28,
   "metadata": {},
   "outputs": [
    {
     "data": {
      "text/plain": [
       "[s3_s3, s3_s4, s3_s5]"
      ]
     },
     "execution_count": 28,
     "metadata": {},
     "output_type": "execute_result"
    }
   ],
   "source": [
    "x"
   ]
  },
  {
   "cell_type": "markdown",
   "metadata": {},
   "source": [
    "`x2s` and `r2idx` are a bidirectional dictionaries that convert between a variable values and a corresponding string or index, respectively.\n",
    "\n",
    "The next step is to use the function `intList2boolexpr` to turn the list of integers `unobservedInts`, corresponding to unobserved species responses, into a Boolean expression."
   ]
  },
  {
   "cell_type": "code",
   "execution_count": 29,
   "metadata": {},
   "outputs": [],
   "source": [
    "from findpcu import intList2boolexpr\n",
    "\n",
    "# the boolean expression for our unobserved responses\n",
    "unobservedBoolexpr = intList2boolexpr(unobservedInts, x)"
   ]
  },
  {
   "cell_type": "markdown",
   "metadata": {},
   "source": [
    "The Boolean expression is returned in [disjunctive normal form](https://en.wikipedia.org/wiki/Disjunctive_normal_form), as a sum of products. Here the notation `~` is used to represent Not. For example, `~s3_s4` means \"not a positive response in `s4` to a negative press-perturbation in `s3`\", or in other words, \"a negative response in `s4`\"."
   ]
  },
  {
   "cell_type": "code",
   "execution_count": 30,
   "metadata": {},
   "outputs": [
    {
     "name": "stdout",
     "output_type": "stream",
     "text": [
      "Or(And(~s3_s3, ~s3_s4, ~s3_s5), And(~s3_s3, ~s3_s4, s3_s5), And(~s3_s3, s3_s4, ~s3_s5), And(s3_s3, ~s3_s4, s3_s5), And(s3_s3, s3_s4, ~s3_s5), And(s3_s3, s3_s4, s3_s5))\n"
     ]
    }
   ],
   "source": [
    "print(unobservedBoolexpr)"
   ]
  },
  {
   "cell_type": "markdown",
   "metadata": {},
   "source": [
    "The list of unobserved species responses can also be easily converted into a truth table using the function `expr2truthtable` from PyEDA. This is the same table as given in Fig. 2a in the paper."
   ]
  },
  {
   "cell_type": "code",
   "execution_count": 31,
   "metadata": {},
   "outputs": [
    {
     "data": {
      "text/plain": [
       "s3_s5 s3_s4 s3_s3\n",
       "    0     0     0 : 1\n",
       "    0     0     1 : 0\n",
       "    0     1     0 : 1\n",
       "    0     1     1 : 1\n",
       "    1     0     0 : 1\n",
       "    1     0     1 : 1\n",
       "    1     1     0 : 0\n",
       "    1     1     1 : 1"
      ]
     },
     "execution_count": 31,
     "metadata": {},
     "output_type": "execute_result"
    }
   ],
   "source": [
    "from pyeda.inter import expr2truthtable\n",
    "expr2truthtable(unobservedBoolexpr)"
   ]
  },
  {
   "cell_type": "markdown",
   "metadata": {},
   "source": [
    "In order to summarise the result, a Boolean minimisation is performed, using the espresso algorithm.\n"
   ]
  },
  {
   "cell_type": "code",
   "execution_count": 32,
   "metadata": {},
   "outputs": [],
   "source": [
    "from pyeda.inter import espresso_exprs\n",
    "\n",
    "# Use espresso to minimise the unobservedBoolexpr\n",
    "boolExprMin, = espresso_exprs(unobservedBoolexpr)"
   ]
  },
  {
   "cell_type": "markdown",
   "metadata": {},
   "source": [
    "When we print out the resulting minimised Boolean expression, we see that it is shorter and simpler than the original (compare to `unobservedBoolexpr` above)."
   ]
  },
  {
   "cell_type": "code",
   "execution_count": 33,
   "metadata": {},
   "outputs": [
    {
     "data": {
      "text/plain": [
       "Or(And(~s3_s4, s3_s5), And(s3_s3, s3_s4), And(~s3_s3, ~s3_s5))"
      ]
     },
     "execution_count": 33,
     "metadata": {},
     "output_type": "execute_result"
    }
   ],
   "source": [
    "boolExprMin"
   ]
  },
  {
   "cell_type": "markdown",
   "metadata": {},
   "source": [
    "Note however that `boolExprMin` is equivalent to the original expression. We can verify that by printing out its (full) truth table (using `expr2truthtable` again) and comparing it to the one above."
   ]
  },
  {
   "cell_type": "code",
   "execution_count": 34,
   "metadata": {},
   "outputs": [
    {
     "data": {
      "text/plain": [
       "s3_s5 s3_s4 s3_s3\n",
       "    0     0     0 : 1\n",
       "    0     0     1 : 0\n",
       "    0     1     0 : 1\n",
       "    0     1     1 : 1\n",
       "    1     0     0 : 1\n",
       "    1     0     1 : 1\n",
       "    1     1     0 : 0\n",
       "    1     1     1 : 1"
      ]
     },
     "execution_count": 34,
     "metadata": {},
     "output_type": "execute_result"
    }
   ],
   "source": [
    "expr2truthtable(boolExprMin)"
   ]
  },
  {
   "cell_type": "markdown",
   "metadata": {},
   "source": [
    "Each of the `And` terms in the minimised Boolean expression (`boolExprMin`) is called a PCU (short for the French \"projection canonique ultime\" meaning \"ultimate canonical projection\"), and Theuns (1994) discusses some of the theory behind them.\n",
    "\n",
    "The function `boolexpr2RespvalList` converts each of the PCUs into a string, which can be useful if we wish to store the results in a file. This function also appends the strings (in our case `pos` and `neg`) that we designated above as `True` and `False`, to make the output quicker to read."
   ]
  },
  {
   "cell_type": "code",
   "execution_count": 35,
   "metadata": {},
   "outputs": [
    {
     "data": {
      "text/plain": [
       "[['poss3_s3', 'poss3_s4'], ['negs3_s5', 'negs3_s3'], ['poss3_s5', 'negs3_s4']]"
      ]
     },
     "execution_count": 35,
     "metadata": {},
     "output_type": "execute_result"
    }
   ],
   "source": [
    "from findpcu import boolexpr2RespvalList\n",
    "\n",
    "# returns the PCUs of the boolean expression as a list of strings\n",
    "PCUList = boolexpr2RespvalList(boolExprMin, x2s)\n",
    "\n",
    "PCUList"
   ]
  },
  {
   "cell_type": "markdown",
   "metadata": {},
   "source": [
    "Each PCU can be used to derive a set of logical implications, and these implications can be chained together to create a logical implication network.\n",
    "\n",
    "All that is needed to ensure that the logical implication network describes the full behaviour of the model is to ensure that at least one implication is derived from each PCU. However for small networks, it may be preferable to include more than one implication. The function `draw_implication_network` draws the network in such a way that every implication with 1 antecedent is included."
   ]
  },
  {
   "cell_type": "code",
   "execution_count": 36,
   "metadata": {},
   "outputs": [
    {
     "name": "stdout",
     "output_type": "stream",
     "text": [
      "implication_network.pdf has been created\n"
     ]
    },
    {
     "data": {
      "text/plain": [
       "0"
      ]
     },
     "execution_count": 36,
     "metadata": {},
     "output_type": "execute_result"
    }
   ],
   "source": [
    "from findpcu import draw_implication_network\n",
    "\n",
    "draw_implication_network(PCUList)\n",
    "\n",
    "# display the pdf of the interaction network here in Jupyter\n",
    "# IFrame(\"implication_network.pdf\", width=500, height=500)\n",
    "\n",
    "# call graphviz to create a png, display in markdown cell\n",
    "os.system(\"dot -Tpng implication_network.dot > implication_network.png\")"
   ]
  },
  {
   "cell_type": "markdown",
   "metadata": {},
   "source": [
    "![title](implication_network.png)\n",
    "\n",
    "`implication_network.png`"
   ]
  },
  {
   "cell_type": "markdown",
   "metadata": {},
   "source": [
    "Recalling the list of PCUs above, we can see each PCU represented twice in the implication network above. For example, `['poss3_s3', 'poss3_s4']` translates to saying that the following combination of species responses is impossible in the model: positive s3 and positive s4. Therefore a positive response in s3 implies a negative response in s4 (seen in left-hand subnetwork), and a positive response in s4 implies a negative response in s3 (seen in right-hand subnetwork).\n",
    "\n",
    "Another function is available, `draw_implication_network2`, to draw the implication network with only one implication per PCU. One can specify which species responses they wish to see as the antecedents. The example below also shows some of its other options.\n"
   ]
  },
  {
   "cell_type": "code",
   "execution_count": 37,
   "metadata": {},
   "outputs": [
    {
     "name": "stdout",
     "output_type": "stream",
     "text": [
      "implication_network_2.pdf has been created\n"
     ]
    },
    {
     "data": {
      "text/plain": [
       "0"
      ]
     },
     "execution_count": 37,
     "metadata": {},
     "output_type": "execute_result"
    }
   ],
   "source": [
    "from findpcu import draw_implication_network2\n",
    "\n",
    "# make a positive response of s3 always an antecedent\n",
    "alwaysAnteList = ['poss3_s3', 'negs3_s5', 'negs3_s4'] \n",
    "\n",
    "niceNames = { # names of each species\n",
    "    's3': 'species 3',\n",
    "    's4': 'species 4',\n",
    "    's5': 'species 5',\n",
    "}\n",
    "\n",
    "fName = 'implication_network_2' # name of the .dot file and .pdf file\n",
    "\n",
    "controlSymbol = '&#9785;' # html code for a sad face\n",
    "\n",
    "draw_implication_network2(PCUList, \n",
    "                          alwaysAnteList, \n",
    "                          fName, \n",
    "                          niceNames, \n",
    "                          controlSymbol)\n",
    "\n",
    "os.system(\"dot -Tpng implication_network_2.dot > implication_network_2.png\")"
   ]
  },
  {
   "cell_type": "markdown",
   "metadata": {},
   "source": [
    "![title](implication_network_2.png)\n",
    "\n",
    "`implication_network_2.png`"
   ]
  },
  {
   "cell_type": "code",
   "execution_count": null,
   "metadata": {},
   "outputs": [],
   "source": []
  }
 ],
 "metadata": {
  "kernelspec": {
   "display_name": "Python 3",
   "language": "python",
   "name": "python3"
  },
  "language_info": {
   "codemirror_mode": {
    "name": "ipython",
    "version": 3
   },
   "file_extension": ".py",
   "mimetype": "text/x-python",
   "name": "python",
   "nbconvert_exporter": "python",
   "pygments_lexer": "ipython3",
   "version": "3.6.7"
  }
 },
 "nbformat": 4,
 "nbformat_minor": 2
}
