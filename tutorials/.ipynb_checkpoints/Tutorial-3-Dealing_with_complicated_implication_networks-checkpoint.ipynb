{
 "cells": [
  {
   "cell_type": "markdown",
   "metadata": {},
   "source": [
    "In this example, we'll use the list of PCU's below (see Tutorial 2 for how to obtain PCUs) that were obtained from simulating rat control on Macquarie Island."
   ]
  },
  {
   "cell_type": "code",
   "execution_count": 1,
   "metadata": {},
   "outputs": [],
   "source": [
    "PCUList = [\n",
    " ['posrats_surfaceSeabirds'],\n",
    " ['negrats_rabbits', 'negrats_herbfield'],\n",
    " ['negrats_prions', 'negrats_skuas'],\n",
    " ['posrats_herbfield', 'posrats_rabbits'],\n",
    " ['posrats_prions', 'posrats_skuas'],\n",
    " ['posrats_tussock', 'posrats_mice', \n",
    "  'posrats_rabbits'],\n",
    " ['negrats_rabbits', 'negrats_burrowSeabirds', \n",
    "  'posrats_tussock'],\n",
    " ['negrats_penguins', 'negrats_skuas', \n",
    "  'negrats_tussock'],\n",
    " ['negrats_rabbits', 'posrats_tussock', \n",
    "  'negrats_skuas'],\n",
    " ['posrats_skuas', 'posrats_petrels', \n",
    "  'negrats_tussock'],\n",
    " ['posrats_redpolls', 'posrats_mice', \n",
    "  'posrats_rabbits'],\n",
    " ['posrats_tussock', 'negrats_petrels', \n",
    "  'negrats_skuas'],\n",
    " ['negrats_tussock', 'posrats_burrowSeabirds', \n",
    "  'posrats_rabbits'],\n",
    " ['negrats_macroInverts', 'posrats_mice', \n",
    "  'posrats_rabbits'],\n",
    " ['posrats_albatrosses', 'negrats_tussock', \n",
    "  'posrats_rabbits'],\n",
    " ['posrats_skuas', 'negrats_tussock', \n",
    "  'posrats_rabbits'],\n",
    " ['posrats_tussock', 'posrats_skuas', \n",
    "  'posrats_penguins'],\n",
    " ['negrats_rabbits', 'posrats_tussock', \n",
    "  'negrats_albatrosses'],\n",
    " ['negrats_rabbits', 'posrats_tussock', \n",
    "  'negrats_redpolls', 'posrats_macroInverts'],\n",
    " ['negrats_macroInverts', 'posrats_redpolls', \n",
    "  'negrats_tussock', 'posrats_rabbits'],\n",
    " ['posrats_petrels', 'posrats_mice', 'posrats_macroInverts', \n",
    "  'posrats_redpolls', 'negrats_albatrosses'],\n",
    " ['posrats_petrels', 'posrats_mice', \n",
    "  'posrats_burrowSeabirds', 'posrats_redpolls', \n",
    "  'negrats_albatrosses'],\n",
    " ['posrats_mice', 'posrats_burrowSeabirds', \n",
    "  'posrats_macroInverts', 'posrats_redpolls', \n",
    "  'negrats_albatrosses', 'negrats_skuas']\n",
    "]"
   ]
  },
  {
   "cell_type": "markdown",
   "metadata": {},
   "source": [
    "Our objective is to draw an implication network that can be interpreted for decision-makers planning a rat control programme.\n",
    "\n",
    "In the first attempt, the implication network that results is very complicated and difficult to interpret."
   ]
  },
  {
   "cell_type": "code",
   "execution_count": 3,
   "metadata": {},
   "outputs": [
    {
     "name": "stdout",
     "output_type": "stream",
     "text": [
      "attempt_1.pdf has been created\n"
     ]
    },
    {
     "data": {
      "text/plain": [
       "0"
      ]
     },
     "execution_count": 3,
     "metadata": {},
     "output_type": "execute_result"
    }
   ],
   "source": [
    "from findpcu import draw_implication_network, draw_implication_network2\n",
    "import os\n",
    "\n",
    "draw_implication_network2(PCUList, \n",
    "                          [], \n",
    "                          'attempt_1', \n",
    "                          niceNames = None, \n",
    "                          controlSymbol = 'downarrow')\n",
    "\n",
    "# call graphviz to create a png, display in markdown cell\n",
    "os.system(\"dot -Tpng attempt_1.dot > attempt_1.png\")"
   ]
  },
  {
   "cell_type": "markdown",
   "metadata": {},
   "source": [
    "`PCUList`\n",
    "![title](attempt_1.png)\n"
   ]
  },
  {
   "cell_type": "markdown",
   "metadata": {},
   "source": [
    "To simplify a network, a good first step is to split the PCUs up by length and present them in separate networks. Provided that every PCU is represented in the networks, then no information will be lost. \n",
    "\n",
    "It is also a good idea to put highly-connected responses, and other pests, at the top as antecedents. We can spot highly-connected nodes by the number of arrows that are feeding into them, and placing other pest species at the top may be useful to decision-makers who are considering either flow-on effects on other pests, or a multi-species control programme."
   ]
  },
  {
   "cell_type": "code",
   "execution_count": 11,
   "metadata": {},
   "outputs": [
    {
     "name": "stdout",
     "output_type": "stream",
     "text": [
      "PCUList1_1.pdf has been created\n",
      "PCUList2_1.pdf has been created\n"
     ]
    },
    {
     "data": {
      "text/plain": [
       "0"
      ]
     },
     "execution_count": 11,
     "metadata": {},
     "output_type": "execute_result"
    }
   ],
   "source": [
    "PCUList1 = [ PCU for PCU in PCUList if len(PCU) <= 2 ]\n",
    "PCUList2 = [ PCU for PCU in PCUList if len(PCU) > 2 ]\n",
    "\n",
    "draw_implication_network2(PCUList1, \n",
    "    [], \n",
    "    'PCUList1_1', niceNames = None, controlSymbol = 'downarrow')\n",
    "draw_implication_network2(PCUList2, \n",
    "    ['negrats_rabbits', 'posrats_rabbits', 'posrats_tussock', 'negrats_tussock'],\n",
    "    'PCUList2_1', niceNames = None, controlSymbol = 'downarrow')\n",
    "\n",
    "os.system(\"dot -Tpng PCUList1_1.dot > PCUList1_1.png\")\n",
    "os.system(\"dot -Tpng PCUList2_1.dot > PCUList2_1.png\")\n"
   ]
  },
  {
   "cell_type": "markdown",
   "metadata": {},
   "source": [
    "![title](PCUList1_1.png)\n",
    "`PCUList1_1`\n",
    "\n",
    "![title](PCUList2_1.png)\n",
    "`PCUList2_1`"
   ]
  },
  {
   "cell_type": "markdown",
   "metadata": {},
   "source": [
    "In the top network (`PCUList1`), we recognise the same bidirectional implication relationship that appeared previously, in the network representing rabbit control. Rabbits and herbfield are also in a bidirectional relationship. For short implications, the function `draw_implication_network` can be more useful. It will repeat the information contained in some of the PCUs (e.g. showing both bidirectional outcomes), but when the implications are short, this doesn't increase the complexity of the network much compared to the increase in clarity of the implications' meaning."
   ]
  },
  {
   "cell_type": "code",
   "execution_count": 5,
   "metadata": {},
   "outputs": [
    {
     "name": "stdout",
     "output_type": "stream",
     "text": [
      "PCUList1_2.pdf has been created\n"
     ]
    },
    {
     "data": {
      "text/plain": [
       "0"
      ]
     },
     "execution_count": 5,
     "metadata": {},
     "output_type": "execute_result"
    }
   ],
   "source": [
    "draw_implication_network(PCUList1, \n",
    "                         'PCUList1_2', \n",
    "                         niceNames = None, \n",
    "                         controlSymbol = 'downarrow')\n",
    "os.system(\"dot -Tpng PCUList1_2.dot > PCUList1_2.png\")"
   ]
  },
  {
   "cell_type": "markdown",
   "metadata": {},
   "source": [
    "![title](PCUList1_2.png)\n",
    "`PCUList1_2`"
   ]
  },
  {
   "cell_type": "markdown",
   "metadata": {},
   "source": [
    "In the second network (`PCUList2`), we see that a symmetry in the effect of the combined response in rabbits and tussock. We can split those out into two separate networks and place the remainder of the PCUs in `PCUList5` for further analysis."
   ]
  },
  {
   "cell_type": "code",
   "execution_count": 6,
   "metadata": {},
   "outputs": [
    {
     "name": "stdout",
     "output_type": "stream",
     "text": [
      "PCUList3_1.pdf has been created\n",
      "PCUList4_1.pdf has been created\n"
     ]
    },
    {
     "data": {
      "text/plain": [
       "0"
      ]
     },
     "execution_count": 6,
     "metadata": {},
     "output_type": "execute_result"
    }
   ],
   "source": [
    "PCUList3 = list() # rat and tussock relationships\n",
    "PCUList4 = list()\n",
    "PCUList5 = list() # other\n",
    "for PCU in PCUList2:\n",
    "    \n",
    "    if 'posrats_rabbits' in PCU and 'negrats_tussock' in PCU:\n",
    "        PCUList3.append(PCU)\n",
    "    elif 'negrats_rabbits' in PCU and 'posrats_tussock' in PCU:\n",
    "        PCUList4.append(PCU)\n",
    "    else:\n",
    "        PCUList5.append(PCU)\n",
    "\n",
    "draw_implication_network2(PCUList3, \n",
    "            ['posrats_rabbits', 'negrats_tussock'],\n",
    "            'PCUList3_1', niceNames = None, controlSymbol = 'downarrow')\n",
    "draw_implication_network2(PCUList4, \n",
    "            ['negrats_rabbits', 'posrats_tussock'],\n",
    "            'PCUList4_1', niceNames = None, controlSymbol = 'downarrow')\n",
    "\n",
    "os.system(\"dot -Tpng PCUList3_1.dot > PCUList3_1.png\")\n",
    "os.system(\"dot -Tpng PCUList4_1.dot > PCUList4_1.png\")\n",
    "            "
   ]
  },
  {
   "cell_type": "markdown",
   "metadata": {},
   "source": [
    "![title](PCUList3_1.png)\n",
    "`PCUList3_1`\n",
    "\n",
    "![title](PCUList4_1.png)\n",
    "`PCUList4_1`"
   ]
  },
  {
   "cell_type": "markdown",
   "metadata": {},
   "source": [
    "The symmetry between the two scenarios above may be useful for understanding the whole-system behaviour. For example, the response of burrow-nesting seabirds and albatrosses echoes what was found for rabbit control.\n",
    "\n",
    "We now take a closer look at the PCUs that remain."
   ]
  },
  {
   "cell_type": "code",
   "execution_count": 7,
   "metadata": {},
   "outputs": [
    {
     "name": "stdout",
     "output_type": "stream",
     "text": [
      "PCUList5_1.pdf has been created\n"
     ]
    },
    {
     "data": {
      "text/plain": [
       "0"
      ]
     },
     "execution_count": 7,
     "metadata": {},
     "output_type": "execute_result"
    }
   ],
   "source": [
    "draw_implication_network2(PCUList5, \n",
    "            ['posrats_mice'],\n",
    "            'PCUList5_1', niceNames = None, controlSymbol = 'downarrow')\n",
    "os.system(\"dot -Tpng PCUList5_1.dot > PCUList5_1.png\")"
   ]
  },
  {
   "cell_type": "markdown",
   "metadata": {},
   "source": [
    "![title](PCUList5_1.png)\n",
    "`PCUList5_1`"
   ]
  },
  {
   "cell_type": "markdown",
   "metadata": {},
   "source": [
    "There is an obvious split between relationships involving mice and not. The relationships not involving mice have a symmetry, so we should choose an arrangement that emphasises that. Below, we choose to place the effect of rat control on tussock as the antecedent."
   ]
  },
  {
   "cell_type": "code",
   "execution_count": 8,
   "metadata": {},
   "outputs": [
    {
     "name": "stdout",
     "output_type": "stream",
     "text": [
      "PCUList6_1.pdf has been created\n"
     ]
    },
    {
     "data": {
      "text/plain": [
       "0"
      ]
     },
     "execution_count": 8,
     "metadata": {},
     "output_type": "execute_result"
    }
   ],
   "source": [
    "PCUList6 = list() # for rules without mice\n",
    "PCUList7 = list() # for rules with mice\n",
    "\n",
    "for PCU in PCUList5:\n",
    "    if 'posrats_mice' in PCU:\n",
    "        PCUList7.append(PCU)\n",
    "    else:\n",
    "        PCUList6.append(PCU)\n",
    "\n",
    "draw_implication_network2(PCUList6, \n",
    "            ['posrats_tussock', 'negrats_tussock'],\n",
    "            'PCUList6_1', niceNames = None, controlSymbol = 'downarrow')\n",
    "os.system(\"dot -Tpng PCUList6_1.dot > PCUList6_1.png\")"
   ]
  },
  {
   "cell_type": "markdown",
   "metadata": {},
   "source": [
    "![title](PCUList6_1.png)\n",
    "`PCUList6_1`"
   ]
  },
  {
   "cell_type": "markdown",
   "metadata": {},
   "source": [
    "Now we consider the right-hand side, the relationships involving mice.\n",
    "\n",
    "The importance of tussock suggests that the interaction between rabbits, mice, and tussock may be interesting in its own right. The simultaneous effect on rabbits is also involved in outcomes for macroinvertebrates and redpolls, and rabbits are another pest species, so we move the rabbit response to the antecedent."
   ]
  },
  {
   "cell_type": "code",
   "execution_count": 9,
   "metadata": {},
   "outputs": [
    {
     "name": "stdout",
     "output_type": "stream",
     "text": [
      "PCUList7_1.pdf has been created\n"
     ]
    },
    {
     "data": {
      "text/plain": [
       "0"
      ]
     },
     "execution_count": 9,
     "metadata": {},
     "output_type": "execute_result"
    }
   ],
   "source": [
    "draw_implication_network2(PCUList7, \n",
    "            ['posrats_rabbits', 'posrats_mice'],\n",
    "            'PCUList7_1', niceNames = None, controlSymbol = 'downarrow')\n",
    "os.system(\"dot -Tpng PCUList7_1.dot > PCUList7_1.png\")"
   ]
  },
  {
   "cell_type": "markdown",
   "metadata": {},
   "source": [
    "![title](PCUList7_1.png)\n",
    "`PCUList7_1`"
   ]
  },
  {
   "cell_type": "markdown",
   "metadata": {},
   "source": [
    "One could end the splitting of the remaining PCUs here. Alternatively, one could choose to emphasise the contingency upon the response of redpolls, by further splitting the network."
   ]
  },
  {
   "cell_type": "code",
   "execution_count": 10,
   "metadata": {},
   "outputs": [
    {
     "name": "stdout",
     "output_type": "stream",
     "text": [
      "PCUList8_1.pdf has been created\n",
      "PCUList9_1.pdf has been created\n"
     ]
    },
    {
     "data": {
      "text/plain": [
       "0"
      ]
     },
     "execution_count": 10,
     "metadata": {},
     "output_type": "execute_result"
    }
   ],
   "source": [
    "PCUList8 = list() # for rabbit and mice relationships\n",
    "PCUList9 = list() # the remainder, which all involve redpolls\n",
    "\n",
    "for PCU in PCUList7:\n",
    "    if 'posrats_rabbits' in PCU:\n",
    "        PCUList8.append(PCU)\n",
    "    else:\n",
    "        PCUList9.append(PCU)\n",
    "        \n",
    "draw_implication_network2(PCUList8, \n",
    "            ['posrats_rabbits', 'posrats_mice'],\n",
    "            'PCUList8_1', niceNames = None, controlSymbol = 'downarrow')\n",
    "os.system(\"dot -Tpng PCUList8_1.dot > PCUList8_1.png\")\n",
    "\n",
    "draw_implication_network2(PCUList9, \n",
    "            ['posrats_redpolls', 'posrats_mice'],\n",
    "            'PCUList9_1', niceNames = None, controlSymbol = 'downarrow')\n",
    "os.system(\"dot -Tpng PCUList9_1.dot > PCUList9_1.png\")\n"
   ]
  },
  {
   "cell_type": "markdown",
   "metadata": {},
   "source": [
    "![title](PCUList8_1.png)\n",
    "`PCUList8_1`\n",
    "\n",
    "![title](PCUList9_1.png)\n",
    "`PCUList9_1`"
   ]
  },
  {
   "cell_type": "markdown",
   "metadata": {},
   "source": [
    "## Potential final presentation\n",
    "\n",
    "The presentation below combines all of the subnetworks that we split above. The decisions that were made to produce this network were somewhat arbitrary, and the best choice depends upon the needs of conservation decision-makers, and may also reflect our causal understanding of the relationships between species.\n",
    "\n",
    "![title](PCUList1_2.png)\n",
    "![title](PCUList3_1.png)\n",
    "![title](PCUList4_1.png)\n",
    "![title](PCUList6_1.png)\n",
    "![title](PCUList8_1.png)\n",
    "![title](PCUList9_1.png)"
   ]
  },
  {
   "cell_type": "code",
   "execution_count": null,
   "metadata": {},
   "outputs": [],
   "source": []
  }
 ],
 "metadata": {
  "kernelspec": {
   "display_name": "Python 3",
   "language": "python",
   "name": "python3"
  },
  "language_info": {
   "codemirror_mode": {
    "name": "ipython",
    "version": 3
   },
   "file_extension": ".py",
   "mimetype": "text/x-python",
   "name": "python",
   "nbconvert_exporter": "python",
   "pygments_lexer": "ipython3",
   "version": "3.6.7"
  }
 },
 "nbformat": 4,
 "nbformat_minor": 2
}
