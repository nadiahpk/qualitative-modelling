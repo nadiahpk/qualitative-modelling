{
 "cells": [
  {
   "cell_type": "markdown",
   "metadata": {},
   "source": [
    "The function `your_model` returns all possible response-combinations from social-ecological model."
   ]
  },
  {
   "cell_type": "code",
   "execution_count": 51,
   "metadata": {},
   "outputs": [],
   "source": [
    "from your_model import your_model\n",
    "\n",
    "responsesList, niceNames, collectedResponses = your_model()\n"
   ]
  },
  {
   "cell_type": "markdown",
   "metadata": {},
   "source": [
    "The model concerns a set of management interventions, and their effects on 5 social and ecological response variables."
   ]
  },
  {
   "cell_type": "code",
   "execution_count": 52,
   "metadata": {},
   "outputs": [
    {
     "name": "stdout",
     "output_type": "stream",
     "text": [
      "intervention\n",
      "environmental flow\n",
      "leisure use of river\n",
      "water price\n",
      "satisfaction with water authority\n",
      "engagement of stakeholders\n"
     ]
    }
   ],
   "source": [
    "# print\n",
    "for v in niceNames.values():\n",
    "    print(v)"
   ]
  },
  {
   "cell_type": "markdown",
   "metadata": {},
   "source": [
    "The response combinations have been encoded as follows:"
   ]
  },
  {
   "cell_type": "code",
   "execution_count": 53,
   "metadata": {},
   "outputs": [
    {
     "name": "stdout",
     "output_type": "stream",
     "text": [
      "int: intervention\n",
      "qua: environmental flow\n",
      "lei: leisure use of river\n",
      "pri: water price\n",
      "sat: satisfaction with water authority\n",
      "eng: engagement of stakeholders\n"
     ]
    }
   ],
   "source": [
    "for k, v in niceNames.items():\n",
    "    print(k + ': ' + v)"
   ]
  },
  {
   "cell_type": "markdown",
   "metadata": {},
   "source": [
    "And the response-combinations that were found in the model were returned as follows:"
   ]
  },
  {
   "cell_type": "code",
   "execution_count": 54,
   "metadata": {},
   "outputs": [
    {
     "name": "stdout",
     "output_type": "stream",
     "text": [
      "eng  sat  pri  lei  qua\n",
      "-------------------------\n",
      "neg  neg  neg  neg  neg\n",
      "neg  neg  neg  neg  pos\n",
      "neg  neg  neg  pos  pos\n",
      "neg  neg  pos  neg  neg\n",
      "neg  neg  pos  neg  pos\n",
      "neg  neg  pos  pos  pos\n",
      "neg  pos  neg  neg  neg\n",
      "neg  pos  neg  neg  pos\n",
      "neg  pos  neg  pos  pos\n",
      "pos  neg  neg  neg  pos\n",
      "pos  neg  neg  pos  pos\n",
      "pos  pos  neg  neg  neg\n",
      "pos  pos  neg  neg  pos\n",
      "pos  pos  neg  pos  pos\n",
      "pos  pos  pos  neg  pos\n",
      "pos  pos  pos  pos  pos\n"
     ]
    }
   ],
   "source": [
    "# print header\n",
    "header = [ r[-3:] for r in responsesList ]\n",
    "print('  '.join(header))\n",
    "print(''.join(['-----']*len(header)))\n",
    "\n",
    "# print response combinations found\n",
    "for response in collectedResponses:\n",
    "    print('  '.join(response))\n"
   ]
  },
  {
   "cell_type": "markdown",
   "metadata": {},
   "source": [
    "The first step is to assign one of the responses to `True` and the other to `False`."
   ]
  },
  {
   "cell_type": "code",
   "execution_count": 55,
   "metadata": {},
   "outputs": [],
   "source": [
    "str4true = 'pos'; str4false = 'neg'"
   ]
  },
  {
   "cell_type": "markdown",
   "metadata": {},
   "source": [
    "Now we can treat the responses as Boolean variables. We use PyEDA to encode them as Boolean variables."
   ]
  },
  {
   "cell_type": "code",
   "execution_count": 64,
   "metadata": {},
   "outputs": [
    {
     "data": {
      "text/plain": [
       "[int_eng, int_sat, int_pri, int_lei, int_qua]"
      ]
     },
     "execution_count": 64,
     "metadata": {},
     "output_type": "execute_result"
    }
   ],
   "source": [
    "from pyeda.inter import espresso_exprs\n",
    "from findpcu import getUnobservedInts, getRespvarList2BoolvarList \n",
    "from findpcu import intList2boolexpr, boolexpr2RespvalList\n",
    "\n",
    "x, x2s, r2idx = getRespvarList2BoolvarList(responsesList, str4true, str4false)\n",
    "\n",
    "# print the Boolean variable names\n",
    "x"
   ]
  },
  {
   "cell_type": "code",
   "execution_count": 57,
   "metadata": {},
   "outputs": [
    {
     "data": {
      "text/plain": [
       "pyeda.boolalg.expr.Variable"
      ]
     },
     "execution_count": 57,
     "metadata": {},
     "output_type": "execute_result"
    }
   ],
   "source": [
    "type(x[0])"
   ]
  },
  {
   "cell_type": "markdown",
   "metadata": {},
   "source": [
    "We turn the list of observed responses into a list of unobserved responses (i.e. impossible response combinations), encoded as integers."
   ]
  },
  {
   "cell_type": "code",
   "execution_count": 65,
   "metadata": {},
   "outputs": [
    {
     "data": {
      "text/plain": [
       "{2, 6, 10, 12, 13, 14, 15, 16, 18, 20, 21, 22, 23, 26, 28, 30}"
      ]
     },
     "execution_count": 65,
     "metadata": {},
     "output_type": "execute_result"
    }
   ],
   "source": [
    "observedInts = [ int(''.join(['1' if i in str4true else '0' \n",
    "                              for i in responseCombination]), 2) \n",
    "                for responseCombination in collectedResponses ]\n",
    "observedInts\n",
    "unobservedInts = set(range(2**len(responsesList)))\n",
    "# ... and loop through the observed response combinations, discarding those that were observed\n",
    "\n",
    "for i in observedInts:\n",
    "    unobservedInts.discard(i)\n",
    "    \n",
    "unobservedInts"
   ]
  },
  {
   "cell_type": "markdown",
   "metadata": {},
   "source": [
    "Using the Boolean variables above, we can create a Boolean expression from the unobserved responses."
   ]
  },
  {
   "cell_type": "code",
   "execution_count": 59,
   "metadata": {},
   "outputs": [
    {
     "data": {
      "text/plain": [
       "Or(And(~int_eng, ~int_sat, ~int_pri, int_lei, ~int_qua), And(~int_eng, ~int_sat, int_pri, int_lei, ~int_qua), And(~int_eng, int_sat, ~int_pri, int_lei, ~int_qua), And(~int_eng, int_sat, int_pri, ~int_lei, ~int_qua), And(~int_eng, int_sat, int_pri, ~int_lei, int_qua), And(~int_eng, int_sat, int_pri, int_lei, ~int_qua), And(~int_eng, int_sat, int_pri, int_lei, int_qua), And(int_eng, ~int_sat, ~int_pri, ~int_lei, ~int_qua), And(int_eng, ~int_sat, ~int_pri, int_lei, ~int_qua), And(int_eng, ~int_sat, int_pri, ~int_lei, ~int_qua), And(int_eng, ~int_sat, int_pri, ~int_lei, int_qua), And(int_eng, ~int_sat, int_pri, int_lei, ~int_qua), And(int_eng, ~int_sat, int_pri, int_lei, int_qua), And(int_eng, int_sat, ~int_pri, int_lei, ~int_qua), And(int_eng, int_sat, int_pri, ~int_lei, ~int_qua), And(int_eng, int_sat, int_pri, int_lei, ~int_qua))"
      ]
     },
     "execution_count": 59,
     "metadata": {},
     "output_type": "execute_result"
    }
   ],
   "source": [
    "unobservedBoolexpr = intList2boolexpr(unobservedInts, x)\n",
    "\n",
    "# print the Boolean expression of unobserved responses\n",
    "unobservedBoolexpr"
   ]
  },
  {
   "cell_type": "markdown",
   "metadata": {},
   "source": [
    "The complexity of this expression can be reduced using Boolean minimisation, using the `espresso` algorithm from PyEDA"
   ]
  },
  {
   "cell_type": "code",
   "execution_count": 60,
   "metadata": {},
   "outputs": [
    {
     "data": {
      "text/plain": [
       "Or(And(~int_eng, int_sat, int_pri), And(int_sat, int_pri, ~int_qua), And(int_lei, ~int_qua), And(int_eng, ~int_sat, int_pri), And(int_eng, ~int_sat, ~int_qua))"
      ]
     },
     "execution_count": 60,
     "metadata": {},
     "output_type": "execute_result"
    }
   ],
   "source": [
    "boolExprMin, = espresso_exprs(unobservedBoolexpr)\n",
    "\n",
    "# print minimised Boolean expression\n",
    "boolExprMin"
   ]
  },
  {
   "cell_type": "markdown",
   "metadata": {},
   "source": [
    "A more human-readable form of the minimised Boolean expression can be obtained using `boolexpr2RespvalList`"
   ]
  },
  {
   "cell_type": "code",
   "execution_count": 61,
   "metadata": {},
   "outputs": [
    {
     "data": {
      "text/plain": [
       "[['negint_qua', 'posint_lei'],\n",
       " ['posint_eng', 'negint_qua', 'negint_sat'],\n",
       " ['posint_sat', 'posint_pri', 'negint_qua'],\n",
       " ['posint_sat', 'posint_pri', 'negint_eng'],\n",
       " ['posint_eng', 'posint_pri', 'negint_sat']]"
      ]
     },
     "execution_count": 61,
     "metadata": {},
     "output_type": "execute_result"
    }
   ],
   "source": [
    "PCUList = boolexpr2RespvalList(boolExprMin, x2s)\n",
    "PCUList"
   ]
  },
  {
   "cell_type": "markdown",
   "metadata": {},
   "source": [
    "The function `draw_implication_network2` can be used to create an implication network. Here, we have specified that the effects of management interventions on community engagemend, environmental flow, and water price, should be antecedents in the network."
   ]
  },
  {
   "cell_type": "code",
   "execution_count": 62,
   "metadata": {},
   "outputs": [
    {
     "name": "stdout",
     "output_type": "stream",
     "text": [
      "your_model.pdf has been created\n"
     ]
    }
   ],
   "source": [
    "draw_implication_network2(PCUList, \n",
    "                          ['posint_eng', 'negint_eng', 'negint_qua', 'posint_qua', 'posint_pri', 'negint_pri'], \n",
    "                          'your_model', niceNames = niceNames, controlSymbol = '&#10148; ')"
   ]
  },
  {
   "cell_type": "markdown",
   "metadata": {},
   "source": [
    "A pdf of the implication network has been created. However we can also use graphviz to create figures in other formats."
   ]
  },
  {
   "cell_type": "code",
   "execution_count": 63,
   "metadata": {},
   "outputs": [
    {
     "data": {
      "text/plain": [
       "0"
      ]
     },
     "execution_count": 63,
     "metadata": {},
     "output_type": "execute_result"
    }
   ],
   "source": [
    "from IPython.display import Image\n",
    "import os\n",
    "\n",
    "os.system(\"dot -Tpng your_model.dot > your_model.png\")"
   ]
  },
  {
   "cell_type": "markdown",
   "metadata": {},
   "source": [
    "![title](your_model.png)\n",
    "An implication network for `your_model`."
   ]
  },
  {
   "cell_type": "code",
   "execution_count": null,
   "metadata": {},
   "outputs": [],
   "source": []
  },
  {
   "cell_type": "code",
   "execution_count": null,
   "metadata": {},
   "outputs": [],
   "source": []
  },
  {
   "cell_type": "code",
   "execution_count": null,
   "metadata": {},
   "outputs": [],
   "source": []
  },
  {
   "cell_type": "code",
   "execution_count": null,
   "metadata": {},
   "outputs": [],
   "source": []
  },
  {
   "cell_type": "code",
   "execution_count": null,
   "metadata": {},
   "outputs": [],
   "source": []
  },
  {
   "cell_type": "code",
   "execution_count": null,
   "metadata": {},
   "outputs": [],
   "source": []
  },
  {
   "cell_type": "code",
   "execution_count": null,
   "metadata": {},
   "outputs": [],
   "source": []
  },
  {
   "cell_type": "code",
   "execution_count": null,
   "metadata": {},
   "outputs": [],
   "source": []
  }
 ],
 "metadata": {
  "kernelspec": {
   "display_name": "Python 3",
   "language": "python",
   "name": "python3"
  },
  "language_info": {
   "codemirror_mode": {
    "name": "ipython",
    "version": 3
   },
   "file_extension": ".py",
   "mimetype": "text/x-python",
   "name": "python",
   "nbconvert_exporter": "python",
   "pygments_lexer": "ipython3",
   "version": "3.6.7"
  }
 },
 "nbformat": 4,
 "nbformat_minor": 2
}
