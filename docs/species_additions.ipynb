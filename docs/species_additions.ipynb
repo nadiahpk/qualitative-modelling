{
 "metadata": {
  "name": "",
  "signature": "sha256:e3b91d2efce4cd5e1dad51ce8b5a8247eb8a68319d75f63f98f89e9a64c345d4"
 },
 "nbformat": 3,
 "nbformat_minor": 0,
 "worksheets": [
  {
   "cells": [
    {
     "cell_type": "heading",
     "level": 1,
     "metadata": {},
     "source": [
      "Species erradications and introductions"
     ]
    },
    {
     "cell_type": "heading",
     "level": 2,
     "metadata": {},
     "source": [
      "A scaling of the LV food web"
     ]
    },
    {
     "cell_type": "markdown",
     "metadata": {},
     "source": [
      "The Lotka-Volterra food web has dynamics\n",
      "\n",
      "\\begin{equation}\n",
      "\\frac{dn_{t;i}}{dt} = n_{t;i}\n",
      "\\left(r_i + \\sum_j a_{ij} n_{t;j}\\right)\n",
      "\\end{equation}\n",
      "\n",
      "with a steady state\n",
      "\n",
      "\\begin{equation}\n",
      "\\mathbf{n} = A^{-1} (-\\mathbf{r})\n",
      "\\end{equation}\n",
      "\n",
      "Let $N$ be the diagonal matrix formed from $\\mathbf{n}$. Then the Jacobian\n",
      "\n",
      "\\begin{equation}\n",
      "J = \\left[ \\left. \\frac{\\partial n_{t;i}'}{\\partial\n",
      "n_{t;j}}\\right|_{\\mathbf{n}}\\right] = NA\n",
      "\\end{equation}\n",
      "\n",
      "Interested in scaling a system such that $\\mathbf{\\hat{n}} = 1$, so choose\n",
      "\n",
      "\\begin{equation}\n",
      "\\hat{n}_{t;i} = \\frac{n_{t;i}}{n_i}\n",
      "\\end{equation}\n",
      "\n",
      "so the dynamics\n",
      "\n",
      "\\begin{equation}\n",
      "\\hat{n}_{t;i}' \n",
      "= \\hat{n}_{t;i} \\left(\n",
      "    r_i + \\sum_j a_{ij} \\hat{n}_{t;i} n_j\n",
      "\\right) \n",
      "\\end{equation}\n",
      "\n",
      "and the Jacobian\n",
      "\n",
      "\\begin{equation}\n",
      "M = \\left[ \\left.\\frac{\\partial \\hat{n}_{t;i}'}{\\partial\n",
      "\\hat{n}_{t;j}}\\right|_{\\mathbf{\\hat{n}} = [1]} \\right] = \n",
      "AN = N^{-1}JN\n",
      "\\end{equation}\n",
      "\n",
      "At the steady state\n",
      "\\begin{equation}\n",
      "r_i = -\\sum_j a_{ij} n_j = -\\sum_j m_{ij}\n",
      "\\end{equation}\n",
      "\n",
      "The sensitivity matrix of the scaled system is\n",
      "\n",
      "\\begin{equation}\n",
      "M^{-1} = N^{-1} J^{-1} N \n",
      "\\end{equation}"
     ]
    },
    {
     "cell_type": "heading",
     "level": 2,
     "metadata": {},
     "source": [
      "Special properties of the scaled system"
     ]
    },
    {
     "cell_type": "markdown",
     "metadata": {},
     "source": [
      "1. $M$ is a similarity transform of $J$, therefore the eigenvalues (but not eigenvectors) are equal.\n",
      "\n",
      "2. $\\mathbf{n}$ is strictly positive and $N$ is a diagonal matrix, therefore the signs (but not the magnitudes) of the elements of $J^{-1}$ are preserved.\n",
      "\n",
      "$M$ can be further scaled so that its elements $m_{ij} = (0,1)$, scaling the eigenvalues and the elements of the sensitivity matrix.\n",
      "\n",
      "$M$ therefore represents a suite of systems conforming the the transformations above."
     ]
    },
    {
     "cell_type": "heading",
     "level": 3,
     "metadata": {},
     "source": [
      "Example of scaling and special properties"
     ]
    },
    {
     "cell_type": "markdown",
     "metadata": {},
     "source": [
      "Consider an LV food web with the following structure"
     ]
    },
    {
     "cell_type": "code",
     "collapsed": false,
     "input": [
      "import networkx as nx\n",
      "import numpy as np\n",
      "import matplotlib.pyplot as plt\n",
      "\n",
      "%matplotlib inline\n",
      "\n",
      "# Define positive and negative interactions\n",
      "positive_edges_list = [(4,2), (4,3), (2,3), (2,1), (3,1), (3,0)]\n",
      "negative_edges_list = [(0,0), (1,1), (2,2), (3,3), (4,4),\n",
      "                       (2,4), (3,4), (3,2), (1,2), (1,3), (0,3)]\n",
      "\n",
      "# Create digraph\n",
      "G = nx.DiGraph()\n",
      "G.add_edges_from(negative_edges_list, color='red', weight=-1)\n",
      "G.add_edges_from(positive_edges_list, color='green', weight=1)\n",
      "node_labels = {node:str(node) for node in G.nodes()}\n",
      "\n",
      "# Draw graph\n",
      "pos=nx.spring_layout(G)\n",
      "nx.draw_networkx_nodes(G, pos)\n",
      "nx.draw_networkx_edges(G, pos, \n",
      "                        edgelist=positive_edges_list, edge_color='g')\n",
      "nx.draw_networkx_edges(G, pos, \n",
      "                        edgelist=negative_edges_list, edge_color='r')\n",
      "nx.draw_networkx_labels(G,pos,node_labels)"
     ],
     "language": "python",
     "metadata": {},
     "outputs": [
      {
       "metadata": {},
       "output_type": "pyout",
       "prompt_number": 199,
       "text": [
        "{0: <matplotlib.text.Text at 0x7f321cd64bd0>,\n",
        " 1: <matplotlib.text.Text at 0x7f321cd6f110>,\n",
        " 2: <matplotlib.text.Text at 0x7f321cd6f550>,\n",
        " 3: <matplotlib.text.Text at 0x7f321cd6f990>,\n",
        " 4: <matplotlib.text.Text at 0x7f321cd6fdd0>}"
       ]
      },
      {
       "metadata": {},
       "output_type": "display_data",
       "png": "[encoded data removed]",
       "text": [
        "<matplotlib.figure.Figure at 0x7f321cdd2050>"
       ]
      }
     ],
     "prompt_number": 199
    },
    {
     "cell_type": "markdown",
     "metadata": {},
     "source": [
      "We can create a scaled Jacobian $M$"
     ]
    },
    {
     "cell_type": "code",
     "collapsed": false,
     "input": [
      "sz = G.order()\n",
      "\n",
      "# Interaction-sign matrix\n",
      "Mq = np.zeros(shape=(sz,sz))\n",
      "Mq[tuple(zip(*positive_edges_list))] = 1\n",
      "# i.e. Mq[((4, 4, 2, 2, 3, 3), (2, 3, 3, 1, 1, 0))]\n",
      "Mq[tuple(zip(*negative_edges_list))] = -1\n",
      "\n",
      "# Assign random uniform values to M\n",
      "M = np.multiply(np.random.random_sample((sz, sz)), Mq)\n",
      "eigM = np.linalg.eigvals(M)\n",
      "\n",
      "print 'M = \\n', M, '\\n'\n",
      "print 'eigenvalues of M: \\n', eigM"
     ],
     "language": "python",
     "metadata": {},
     "outputs": [
      {
       "output_type": "stream",
       "stream": "stdout",
       "text": [
        "M = \n",
        "[[-0.6535125   0.          0.         -0.09991075  0.        ]\n",
        " [ 0.         -0.5079389  -0.907808   -0.26868406  0.        ]\n",
        " [ 0.          0.5783927  -0.02781     0.58216665 -0.42313147]\n",
        " [ 0.48176089  0.58309401 -0.82323596 -0.98908977 -0.61458354]\n",
        " [ 0.          0.          0.87285433  0.56628477 -0.43321943]] \n",
        "\n",
        "eigenvalues of M: \n",
        "[-0.35749268+1.30830626j -0.35749268-1.30830626j -0.70014435+0.17340657j\n",
        " -0.70014435-0.17340657j -0.49629655+0.j        ]\n"
       ]
      }
     ],
     "prompt_number": 200
    },
    {
     "cell_type": "markdown",
     "metadata": {},
     "source": [
      "This corresponds to a whole family of possible systems. For example, we could define them by their steady state values:"
     ]
    },
    {
     "cell_type": "code",
     "collapsed": false,
     "input": [
      "n1 = np.random.random_sample(sz)\n",
      "n2 = np.random.random_sample(sz)\n",
      "print n1, '\\n'\n",
      "print n2, '\\n'"
     ],
     "language": "python",
     "metadata": {},
     "outputs": [
      {
       "output_type": "stream",
       "stream": "stdout",
       "text": [
        "[ 0.17878136  0.78871889  0.64845851  0.45187272  0.57995228] \n",
        "\n",
        "[ 0.09429748  0.41709849  0.28696514  0.46215023  0.77239893] \n",
        "\n"
       ]
      }
     ],
     "prompt_number": 201
    },
    {
     "cell_type": "code",
     "collapsed": false,
     "input": [
      "N1 = np.diag(n1)\n",
      "N2 = np.diag(n2)\n",
      "A1 = np.dot(M, np.linalg.inv(N1))\n",
      "A2 = np.dot(M, np.linalg.inv(N2))\n",
      "\n",
      "print A1, '\\n'\n",
      "print A2, '\\n'"
     ],
     "language": "python",
     "metadata": {},
     "outputs": [
      {
       "output_type": "stream",
       "stream": "stdout",
       "text": [
        "[[-3.65537276  0.          0.         -0.22110374  0.        ]\n",
        " [ 0.         -0.64400499 -1.3999477  -0.5946012   0.        ]\n",
        " [ 0.          0.73333188 -0.04288632  1.28834209 -0.72959705]\n",
        " [ 2.69469312  0.73929257 -1.26952756 -2.18886805 -1.05971399]\n",
        " [ 0.          0.          1.34604499  1.25319529 -0.74699152]] \n",
        "\n",
        "[[-6.93032809  0.          0.         -0.21618673  0.        ]\n",
        " [ 0.         -1.21779126 -3.16347833 -0.58137819  0.        ]\n",
        " [ 0.          1.38670533 -0.09691073  1.25969136 -0.54781468]\n",
        " [ 5.10894746  1.39797678 -2.86876641 -2.14019102 -0.79568151]\n",
        " [ 0.          0.          3.04167375  1.22532617 -0.56087524]] \n",
        "\n"
       ]
      }
     ],
     "prompt_number": 202
    },
    {
     "cell_type": "markdown",
     "metadata": {},
     "source": [
      "They have equal eigenvalues at the steady state"
     ]
    },
    {
     "cell_type": "code",
     "collapsed": false,
     "input": [
      "J1 = np.dot(N1,A1)\n",
      "J2 = np.dot(N2,A2)\n",
      "\n",
      "eigM = np.linalg.eigvals(M)\n",
      "eigJ1 = np.linalg.eigvals(J1)\n",
      "eigJ2 = np.linalg.eigvals(J2)\n",
      "\n",
      "print eigM, '\\n'\n",
      "print eigJ1, '\\n'\n",
      "print eigJ2, '\\n'"
     ],
     "language": "python",
     "metadata": {},
     "outputs": [
      {
       "output_type": "stream",
       "stream": "stdout",
       "text": [
        "[-0.35749268+1.30830626j -0.35749268-1.30830626j -0.70014435+0.17340657j\n",
        " -0.70014435-0.17340657j -0.49629655+0.j        ] \n",
        "\n",
        "[-0.35749268+1.30830626j -0.35749268-1.30830626j -0.70014435+0.17340657j\n",
        " -0.70014435-0.17340657j -0.49629655+0.j        ] \n",
        "\n",
        "[-0.35749268+1.30830626j -0.35749268-1.30830626j -0.70014435+0.17340657j\n",
        " -0.70014435-0.17340657j -0.49629655+0.j        ] \n",
        "\n"
       ]
      }
     ],
     "prompt_number": 203
    },
    {
     "cell_type": "markdown",
     "metadata": {},
     "source": [
      "The sign structure of the sensitivity matrix is also shared"
     ]
    },
    {
     "cell_type": "code",
     "collapsed": false,
     "input": [
      "print np.linalg.inv(-M), '\\n'\n",
      "print np.linalg.inv(-J1), '\\n'\n",
      "print np.linalg.inv(-J2), '\\n'"
     ],
     "language": "python",
     "metadata": {},
     "outputs": [
      {
       "output_type": "stream",
       "stream": "stdout",
       "text": [
        "[[ 1.46487921  0.06188012  0.14366084 -0.08859817 -0.01462641]\n",
        " [-0.11553198  1.01494509 -0.67962022 -0.15672006  0.88612431]\n",
        " [-0.06179945  0.65346557  0.65838001 -0.08383145 -0.52412209]\n",
        " [ 0.42721262 -0.40475555 -0.93968022  0.57951734  0.0956708 ]\n",
        " [ 0.43391886  0.78753011  0.09820256  0.58861441  1.37734975]] \n",
        "\n",
        "[[ 1.46487921  0.01402656  0.03960759 -0.03505346 -0.00450887]\n",
        " [-0.50968546  1.01494509 -0.82662081 -0.27354621  1.20510429]\n",
        " [-0.22415301  0.53725772  0.65838001 -0.12030205 -0.58603344]\n",
        " [ 1.07978671 -0.2318925  -0.65480805  0.57951734  0.07454239]\n",
        " [ 1.40759776  0.57907816  0.08782797  0.75545226  1.37734975]] \n",
        "\n",
        "[[  1.46487921e+00   1.39898354e-02   4.72073208e-02  -1.80776377e-02\n",
        "   -1.78564933e-03]\n",
        " [ -5.11023358e-01   1.01494509e+00  -9.87815350e-01  -1.41442538e-01\n",
        "    4.78510657e-01]\n",
        " [ -1.88067456e-01   4.49586467e-01   6.58380015e-01  -5.20538601e-02\n",
        "   -1.94724209e-01]\n",
        " [  2.09376120e+00  -4.48474096e-01  -1.51333163e+00   5.79517342e-01\n",
        "    5.72428083e-02]\n",
        " [  3.55426733e+00   1.45837835e+00   2.64323221e-01   9.83760497e-01\n",
        "    1.37734975e+00]] \n",
        "\n"
       ]
      }
     ],
     "prompt_number": 204
    },
    {
     "cell_type": "markdown",
     "metadata": {},
     "source": [
      "The systems in the family also share their $\\mathbf{r}$, so whether this family of systems make sense or not depends upon what kinds of assumptions we're willing to make about the intrinsic growth rates. Perhaps for some top predators we might like to require that $r_i \\leq 0$"
     ]
    },
    {
     "cell_type": "code",
     "collapsed": false,
     "input": [
      "r1 = -np.dot(A1,n1)\n",
      "r2 = -np.dot(A2,n2)\n",
      "\n",
      "print r1\n",
      "print r2"
     ],
     "language": "python",
     "metadata": {},
     "outputs": [
      {
       "output_type": "stream",
       "stream": "stdout",
       "text": [
        "[ 0.75342324  1.68443097 -0.70961788  1.36205437 -1.00591967]\n",
        "[ 0.75342324  1.68443097 -0.70961788  1.36205437 -1.00591967]\n"
       ]
      }
     ],
     "prompt_number": 205
    },
    {
     "cell_type": "markdown",
     "metadata": {},
     "source": [
      "Here is another scaled system, this time assuming that some scaling factor has been applied to the $M$ (for example, to keep its values between zero and 1). The sign-structure of the eigenvalues, the sensitivity matrix, and the intrinsic growth rates $\\mathbf{r}$ is preserved. Given that our concerns are usually about the signs of these attributes, we can say that our $M$s search the entire space of possible outcomes in this regard."
     ]
    },
    {
     "cell_type": "code",
     "collapsed": false,
     "input": [
      "alpha = 42\n",
      "Mf = alpha*M # Just apply some scaling\n",
      "n3 = np.random.random_sample(sz)\n",
      "N3 = np.diag(n3)\n",
      "A3 = np.dot(Mf, np.linalg.inv(N3))\n",
      "r3 = -np.dot(A3,n3)\n",
      "J3 = np.dot(N3,A3)\n",
      "\n",
      "print 'eiganvalues: \\n', eigJ1\n",
      "print np.linalg.eigvals(J3)/alpha, '\\n'\n",
      "print 'r vector: \\n', r1\n",
      "print r3/alpha"
     ],
     "language": "python",
     "metadata": {},
     "outputs": [
      {
       "output_type": "stream",
       "stream": "stdout",
       "text": [
        "eiganvalues: \n",
        "[-0.35749268+1.30830626j -0.35749268-1.30830626j -0.70014435+0.17340657j\n",
        " -0.70014435-0.17340657j -0.49629655+0.j        ]\n",
        "[-0.35749268+1.30830626j -0.35749268-1.30830626j -0.70014435+0.17340657j\n",
        " -0.70014435-0.17340657j -0.49629655+0.j        ] \n",
        "\n",
        "r vector: \n",
        "[ 0.75342324  1.68443097 -0.70961788  1.36205437 -1.00591967]\n",
        "[ 0.75342324  1.68443097 -0.70961788  1.36205437 -1.00591967]\n"
       ]
      }
     ],
     "prompt_number": 212
    },
    {
     "cell_type": "heading",
     "level": 2,
     "metadata": {},
     "source": [
      "Species deletion"
     ]
    },
    {
     "cell_type": "heading",
     "level": 3,
     "metadata": {},
     "source": [
      "Effect on steady state"
     ]
    },
    {
     "cell_type": "markdown",
     "metadata": {},
     "source": [
      "The steady state of the full system $-\\mathbf{r} = A \\mathbf{n}$\n",
      "may also be expressed as\n",
      "\n",
      "\\begin{equation}\n",
      "-\\mathbf{r}_{i\\neq k} = A_{i \\neq k,j \\neq k}\n",
      "\\mathbf{n}_{i\\neq k} +\n",
      "A_{i \\neq k,k} n_k\n",
      "\\end{equation}\n",
      "\n",
      "where e.g. $A_{i \\neq k,j \\neq k}$ denotes the original $A$ matrix with its $k^{\\text{th}}$ rows and columns removed.\n",
      "\n",
      "A vector of the steady-state population size for all but the $k^{\\text{th}}$ species can then be found\n",
      "\n",
      "\\begin{equation}\n",
      "\\mathbf{n}_{i\\neq k} = (A_{i \\neq k,j\\neq k})^{-1}\n",
      "\\left( \n",
      "    - \\mathbf{r}_{i\\neq k} -\n",
      "    n_k A_{i \\neq k, k}\n",
      "\\right)\n",
      "\\end{equation}\n",
      "\n",
      "We are interested in removal of the $k^{\\text{th}}$ species. The steady state of the subsystem formed by removing species\n",
      "$k$ is\n",
      "\n",
      "\\begin{equation}\n",
      "\\mathbf{s} =\n",
      "(A_{i \\neq k,j \\neq k})^{-1}\n",
      "\\left(\n",
      "-\\mathbf{r}_{i\\neq k} \\right)\n",
      "\\end{equation}\n",
      "\n",
      "We wish to know\n",
      "if the removal of species $k$ caused any other species to go\n",
      "extinct. Species extinction occurs when\n",
      "\n",
      "\\begin{equation}\n",
      "\\begin{split}\n",
      "s_i &< 0 \\\\\n",
      "\\delta_i = \\frac{s_i - n_i}{n_i} &< -1 \n",
      "\\end{split}\n",
      "\\end{equation}\n",
      "\n",
      "Taking the difference between the original full system and the system that results after removal of species $k$\n",
      "\n",
      "\\begin{equation}\n",
      "\\begin{split}\n",
      "\\mathbf{s} - \\mathbf{n}_{i \\neq k}\n",
      "& = A^{-1}_{i \\neq k,j \\neq k} \\left(\n",
      "    n_k A_{i\\neq k, k} \\right) \\\\\n",
      "& = A^{-1}_{i \\neq k,j \\neq k} \n",
      "    M_{i\\neq k,k}\n",
      "\\end{split}\n",
      "\\end{equation}\n",
      "\n",
      "Because $A^{-1} = N M^{-1}$ and because $N$ is a diagonal matrix then $A^{-1}_{i\\neq k, j \\neq k} = \n",
      "N_{i\\neq k, j \\neq k}(M_{i\\neq k, j \\neq k})^{-1}$. Therefore\n",
      "\n",
      "\\begin{equation}\n",
      "\\mathbf{s} - \\mathbf{n}_{i \\neq k}\n",
      "= N_{i\\neq k, j \\neq k}(M_{i\\neq k, j \\neq k})^{-1}\n",
      "    M_{i\\neq k,k}\n",
      "\\end{equation}\n",
      "\n",
      "and so the effect of the removal of species $k$ on the steady state of the remaining species in the system can be found for all systems conforming to $M$ from the elements of $M$ alone\n",
      "\n",
      "\\begin{equation}\n",
      "\\delta_i\n",
      "= \\left[ (M_{i\\neq k, j \\neq k})^{-1}\n",
      "    M_{i\\neq k,k} \\right]_i\n",
      "\\end{equation}\n"
     ]
    },
    {
     "cell_type": "heading",
     "level": 4,
     "metadata": {},
     "source": [
      "Example of effect on steady state"
     ]
    },
    {
     "cell_type": "markdown",
     "metadata": {},
     "source": [
      "First we'll verify the re-expression of the steady state"
     ]
    },
    {
     "cell_type": "code",
     "collapsed": false,
     "input": [
      "k = 2 # Our species to remove\n",
      "\n",
      "# Removal of kth row and column from system 1 from above\n",
      "A_notk = np.delete(A1, (k), axis=0)\n",
      "A_notk_k = A_notk[:,k]\n",
      "A_notk = np.delete(A_notk, (k), axis=1)\n",
      "r_notk = np.delete(r1, (k), axis=0)\n",
      "\n",
      "print 'A = \\n', A1, '\\n'\n",
      "print 'A_notk = \\n', A_notk, '\\n'\n",
      "\n",
      "# Recalculate n\n",
      "n_notk = np.linalg.solve(A_notk,-r_notk - n1[k]*A_notk_k)\n",
      "\n",
      "print 'n = \\n', n1, '\\n'\n",
      "print 'n_notk = \\n', n_notk, '\\n'"
     ],
     "language": "python",
     "metadata": {},
     "outputs": [
      {
       "output_type": "stream",
       "stream": "stdout",
       "text": [
        "A = \n",
        "[[-3.65537276  0.          0.         -0.22110374  0.        ]\n",
        " [ 0.         -0.64400499 -1.3999477  -0.5946012   0.        ]\n",
        " [ 0.          0.73333188 -0.04288632  1.28834209 -0.72959705]\n",
        " [ 2.69469312  0.73929257 -1.26952756 -2.18886805 -1.05971399]\n",
        " [ 0.          0.          1.34604499  1.25319529 -0.74699152]] \n",
        "\n",
        "A_notk = \n",
        "[[-3.65537276  0.         -0.22110374  0.        ]\n",
        " [ 0.         -0.64400499 -0.5946012   0.        ]\n",
        " [ 2.69469312  0.73929257 -2.18886805 -1.05971399]\n",
        " [ 0.          0.          1.25319529 -0.74699152]] \n",
        "\n",
        "n = \n",
        "[ 0.17878136  0.78871889  0.64845851  0.45187272  0.57995228] \n",
        "\n",
        "n_notk = \n",
        "[ 0.17878136  0.78871889  0.45187272  0.57995228] \n",
        "\n"
       ]
      }
     ],
     "prompt_number": 213
    },
    {
     "cell_type": "markdown",
     "metadata": {},
     "source": [
      "We can find the new steady state after removal of species $k$."
     ]
    },
    {
     "cell_type": "code",
     "collapsed": false,
     "input": [
      "s = np.linalg.solve(A_notk, -r_notk)\n",
      "\n",
      "print 's = \\n', s, '\\n'"
     ],
     "language": "python",
     "metadata": {},
     "outputs": [
      {
       "output_type": "stream",
       "stream": "stdout",
       "text": [
        "s = \n",
        "[ 0.13977063  1.60288288  1.0968131   0.49344784] \n",
        "\n"
       ]
      }
     ],
     "prompt_number": 214
    },
    {
     "cell_type": "markdown",
     "metadata": {},
     "source": [
      "The scaled changes in the steady-state $\\delta$ can be found directly"
     ]
    },
    {
     "cell_type": "code",
     "collapsed": false,
     "input": [
      "delta = (s - n_notk)/n_notk\n",
      "\n",
      "print 'delta = \\n', delta, '\\n'"
     ],
     "language": "python",
     "metadata": {},
     "outputs": [
      {
       "output_type": "stream",
       "stream": "stdout",
       "text": [
        "delta = \n",
        "[-0.21820352  1.03226132  1.42726115 -0.14915787] \n",
        "\n"
       ]
      }
     ],
     "prompt_number": 215
    },
    {
     "cell_type": "markdown",
     "metadata": {},
     "source": [
      "and we see here that the species that have gone extinct have a $\\delta_i < -1$.\n",
      "\n",
      "These scaled changes in the steady-state population size can be found directly from our scaled $M$"
     ]
    },
    {
     "cell_type": "code",
     "collapsed": false,
     "input": [
      "Mf_notk = np.delete(Mf, (k), axis=0)\n",
      "Mf_notk_k = Mf_notk[:,k]\n",
      "Mf_notk = np.delete(Mf_notk, (k), axis=1)\n",
      "\n",
      "delta_from_M = np.linalg.solve(Mf_notk, Mf_notk_k)\n",
      "\n",
      "print 'delta calculated from M = \\n', delta_from_M, '\\n'"
     ],
     "language": "python",
     "metadata": {},
     "outputs": [
      {
       "output_type": "stream",
       "stream": "stdout",
       "text": [
        "delta calculated from M = \n",
        "[-0.21820352  1.03226132  1.42726115 -0.14915787] \n",
        "\n"
       ]
      }
     ],
     "prompt_number": 216
    },
    {
     "cell_type": "markdown",
     "metadata": {},
     "source": [
      "$M$ can also be used to find the effect of species deletion for the whole family of systems. The scaled changes $\\delta$ are the same for the second system above that scaled to $M$. "
     ]
    },
    {
     "cell_type": "code",
     "collapsed": false,
     "input": [
      "# Removal of kth row and column from system 2 above, to compare\n",
      "A_notk = np.delete(A2, (k), axis=0)\n",
      "A_notk = np.delete(A_notk, (k), axis=1)\n",
      "s = np.linalg.solve(A_notk, -r_notk)\n",
      "n_notk = np.delete(n2, (k), axis=0)\n",
      "delta2 = (s - n_notk)/n_notk\n",
      "\n",
      "print 'delta from another system corresponding to M = \\n', delta2, '\\n'\n"
     ],
     "language": "python",
     "metadata": {},
     "outputs": [
      {
       "output_type": "stream",
       "stream": "stdout",
       "text": [
        "delta from another system corresponding to M = \n",
        "[-0.21820352  1.03226132  1.42726115 -0.14915787] \n",
        "\n"
       ]
      }
     ],
     "prompt_number": 217
    },
    {
     "cell_type": "heading",
     "level": 3,
     "metadata": {},
     "source": [
      "Effect on stability"
     ]
    },
    {
     "cell_type": "markdown",
     "metadata": {},
     "source": [
      "The scaled changes relate $\\mathbf{s}$ and $\\mathbf{n}$ by \n",
      "\n",
      "\\begin{equation}\n",
      "s_i = n_i (\\delta_i + 1)\n",
      "\\end{equation}\n",
      "\n",
      "In the original system\n",
      "\n",
      "\\begin{equation}\n",
      "J_{ij} = n_i a_{ij}\n",
      "\\end{equation}\n",
      "\n",
      "and in the subsystem\n",
      "\n",
      "\\begin{equation}\n",
      "\\begin{split}\n",
      "J_{s,ij} &= s_i a_{ij} \\\\\n",
      "&= J_{ij} (\\delta_i + 1) \n",
      "\\end{split}\n",
      "\\end{equation}\n",
      "so\n",
      "\\begin{equation}\n",
      "J_s = \\text{diag}(\\boldsymbol{\\delta}+1) J\n",
      "\\end{equation}\n",
      "\n",
      "In the scaled system\n",
      "\\begin{equation}\n",
      "m_{ij} = a_{ij} n_j\n",
      "\\end{equation}\n",
      "\n",
      "and in the scaled subsystem\n",
      "\n",
      "\\begin{equation}\n",
      "b_{ij} = m_{ij} (\\delta_i + 1) \n",
      "\\end{equation}\n",
      "\n",
      "so \n",
      "\n",
      "\\begin{equation}\n",
      "B = M \\text{diag}(\\boldsymbol{\\delta}+1) \n",
      "\\end{equation}\n",
      "\n",
      "So\n",
      "\\begin{equation}\n",
      "\\begin{split}\n",
      "B &= N^{-1} J N \\text{diag}(\\boldsymbol{\\delta}+1) \\\\\n",
      " &= N^{-1} (\\text{diag}(\\boldsymbol{\\delta}+1))^{-1} J_s\n",
      " N \\text{diag}(\\boldsymbol{\\delta}+1) \\\\\n",
      " &= N^{-1} (\\text{diag}(\\boldsymbol{\\delta}+1))^{-1} J_s\n",
      " \\text{diag}(\\boldsymbol{\\delta}+1) N \n",
      "\\end{split}\n",
      "\\end{equation}\n",
      "which is a similarity transform and therefore\n",
      "\\begin{equation}\n",
      "\\text{eig}(B) = \\text{eig}(J_s)\n",
      "\\end{equation}\n",
      "\n",
      "Also if $M$ is further scaled by $\\alpha$, then $B$ and the eigenvalues are scaled by $\\alpha$."
     ]
    },
    {
     "cell_type": "heading",
     "level": 4,
     "metadata": {},
     "source": [
      "Example of effect on stability"
     ]
    },
    {
     "cell_type": "code",
     "collapsed": false,
     "input": [
      "J_s = np.dot(np.diag(s), A_notk)\n",
      "print 'eig(Js) = \\n', np.linalg.eigvals(J_s), '\\n'\n",
      "\n",
      "B = np.dot(Mf_notk, np.diag(delta2+1))\n",
      "\n",
      "print 'eig(B) = \\n', np.linalg.eigvals(B)/alpha, '\\n'"
     ],
     "language": "python",
     "metadata": {},
     "outputs": [
      {
       "output_type": "stream",
       "stream": "stdout",
       "text": [
        "eig(Js) = \n",
        "[-1.60480375+0.92427044j -1.60480375-0.92427044j -0.48112202+0.j\n",
        " -0.62182933+0.j        ] \n",
        "\n",
        "eig(B) = \n",
        "[-1.60480375+0.92427044j -1.60480375-0.92427044j -0.48112202+0.j\n",
        " -0.62182933+0.j        ] \n",
        "\n"
       ]
      }
     ],
     "prompt_number": 218
    },
    {
     "cell_type": "heading",
     "level": 1,
     "metadata": {},
     "source": [
      "Species addition"
     ]
    },
    {
     "cell_type": "heading",
     "level": 2,
     "metadata": {},
     "source": [
      "Effect on steady state"
     ]
    },
    {
     "cell_type": "markdown",
     "metadata": {},
     "source": [
      "We wish to know if the removal of species $k$ caused any other species to go extinct. Extinction of a resident species occurs when\n",
      "\\begin{equation}\n",
      "\\varepsilon_i = \\frac{n_{i \\neq k} - s_i}{s_i} < -1 \n",
      "\\end{equation}\n",
      "As before,\n",
      "\\begin{equation}\n",
      "\\mathbf{n}_{i\\neq k} = (A_{i \\neq k,j\\neq k})^{-1}\n",
      "\\left( - \\mathbf{r}_{i\\neq k} - n_k A_{i \\neq k, k}\n",
      "\\right)\n",
      "\\end{equation}\n",
      "\\begin{equation}\n",
      "\\mathbf{s} =\n",
      "(A_{i \\neq k,j \\neq k})^{-1}\n",
      "\\left(\n",
      "-\\mathbf{r}_{i\\neq k} \\right)\n",
      "\\end{equation}\n",
      "so\n",
      "\\begin{equation}\n",
      "\\begin{split}\n",
      "\\mathbf{n}_{i \\neq k} - \\mathbf{s} \n",
      " & = -(A_{i \\neq k,j\\neq k})^{-1} (n_k A_{i \\neq k, k}) \\\\\n",
      " & = -(A_{i \\neq k,j\\neq k})^{-1} M_{i\\neq k,k} \\\\\n",
      "\\end{split}\n",
      "\\end{equation}\n",
      "\n",
      "Let the Jacobian of the subsystem be\n",
      "$B = A_{i \\neq k,j\\neq k} S$ where $S$ is the diagonal matrix formed of\n",
      "$\\mathbf{s}$. Then, because $S$ is diagonal,\n",
      "$(A_{i \\neq k,j\\neq k})^{-1} = S B^{-1}$. So\n",
      "\n",
      "\\begin{equation}\n",
      "\\mathbf{n}_{i \\neq k} -\n",
      "\\mathbf{s} \n",
      "= SB^{-1} M_{i\\neq k,k}\n",
      "\\end{equation}\n",
      "so\n",
      "\\begin{equation}\n",
      "\\varepsilon_i = [- B^{-1} M_{i\\neq k,k}]_i\n",
      "\\end{equation}"
     ]
    },
    {
     "cell_type": "heading",
     "level": 2,
     "metadata": {},
     "source": [
      "Invasion criteria for species $k$"
     ]
    },
    {
     "cell_type": "markdown",
     "metadata": {},
     "source": [
      "At the new steady state\n",
      "\\begin{equation}\n",
      "r_k  = -a_{kk} n_k - \\sum_{j \\neq k} a_{kj} n_j \n",
      "\\end{equation}\n",
      "\n",
      "The new species introduced at low numbers can invade if\n",
      "\\begin{equation}\n",
      "\\begin{split}\n",
      "\\gamma_k \n",
      " & = r_k + \\sum_{i \\neq k} a_{ki} s_i > 0 \\\\\n",
      "\\gamma_k\n",
      " & = -m_{kk} - \\sum_{j \\neq k} m_{kj}\n",
      "     \\left( \\frac{\\varepsilon_j}{\\varepsilon_j + 1} \\right) > 0\\\\\n",
      "\\end{split}\n",
      "\\end{equation}\n"
     ]
    },
    {
     "cell_type": "heading",
     "level": 2,
     "metadata": {},
     "source": [
      "Filling in the remainder of the new $M$"
     ]
    },
    {
     "cell_type": "markdown",
     "metadata": {},
     "source": [
      "The old scaled Jacobian\n",
      "\n",
      "\\begin{equation}\n",
      "b_{ij} = a_{ij} s_j\n",
      "\\end{equation}\n",
      "\n",
      "At the new steady state, the scaled Jacobian\n",
      "\n",
      "\\begin{equation}\n",
      "\\begin{split}\n",
      "m_{ij} \n",
      " & = a_{ij} n_j \\\\\n",
      " & = a_{ij} s_j(\\varepsilon_j + 1) \\\\\n",
      " & = b_{ij} (\\varepsilon_j + 1) \\\\\n",
      "\\end{split}\n",
      "\\end{equation}\n",
      "so\n",
      "\\begin{equation}\n",
      "M_{i \\neq k, j \\neq k} = B \\; \\text{diag}(\\varepsilon + 1)\n",
      "\\end{equation}"
     ]
    },
    {
     "cell_type": "heading",
     "level": 2,
     "metadata": {},
     "source": [
      "Example of successful species addition"
     ]
    },
    {
     "cell_type": "markdown",
     "metadata": {},
     "source": [
      "We'll take one of the scaled Jacobians above as our starting subystem"
     ]
    },
    {
     "cell_type": "code",
     "collapsed": false,
     "input": [
      "B = M # Turn previous system into our new subsystem"
     ],
     "language": "python",
     "metadata": {},
     "outputs": [],
     "prompt_number": 219
    },
    {
     "cell_type": "markdown",
     "metadata": {},
     "source": [
      "We'll add one species $k$ to the final row and column, such that it feeds upon species 2 and 4, and is fed upon by species 3."
     ]
    },
    {
     "cell_type": "code",
     "collapsed": false,
     "input": [
      "k = sz\n",
      "Mq_notk_k = np.array([0, 0, +1, -1, +1])"
     ],
     "language": "python",
     "metadata": {},
     "outputs": [],
     "prompt_number": 220
    },
    {
     "cell_type": "markdown",
     "metadata": {},
     "source": [
      "First, we'll find values for the new final column of $M$ that will not lead to the extinction of any of the resident species"
     ]
    },
    {
     "cell_type": "code",
     "collapsed": false,
     "input": [
      "# Find an invasion that will not cause the extinction of \n",
      "# resident species\n",
      "\n",
      "mineps = -2\n",
      "\n",
      "while mineps <= -1:\n",
      "\n",
      "    M_notk_k = np.random.random_sample(sz) * Mq_notk_k\n",
      "    eps = np.dot(-np.linalg.inv(B), M_notk_k)\n",
      "    mineps = min(eps)\n",
      "    \n",
      "print 'eps = \\n', eps"
     ],
     "language": "python",
     "metadata": {},
     "outputs": [
      {
       "output_type": "stream",
       "stream": "stdout",
       "text": [
        "eps = \n",
        "[ 0.12221838  0.30829177  0.06411004 -0.79942588  0.95208375]\n"
       ]
      }
     ],
     "prompt_number": 221
    },
    {
     "cell_type": "markdown",
     "metadata": {},
     "source": [
      "The new species' ability to invade the system is determined by the final row of the new $M$. We search for values that will satisfy the invasion criteria $\\gamma_k > 0$"
     ]
    },
    {
     "cell_type": "code",
     "collapsed": false,
     "input": [
      "# Find an invasion that is successful\n",
      "\n",
      "Mq_k_notk = -Mq_notk_k\n",
      "\n",
      "gamma = -1\n",
      "\n",
      "while gamma <= 0:\n",
      "    m_kk = - np.random.random_sample()\n",
      "    M_k_notk = np.random.random_sample(sz) * Mq_k_notk\n",
      "    \n",
      "    gamma = - m_kk - sum(M_k_notk * (eps/(1+eps)))\n",
      "\n",
      "print 'gamma = ', gamma\n"
     ],
     "language": "python",
     "metadata": {},
     "outputs": [
      {
       "output_type": "stream",
       "stream": "stdout",
       "text": [
        "gamma =  2.35888164321\n"
       ]
      }
     ],
     "prompt_number": 222
    },
    {
     "cell_type": "markdown",
     "metadata": {},
     "source": [
      "We can now construct the complete $M$, with which we may wish to test for stability or further invasions / removals."
     ]
    },
    {
     "cell_type": "code",
     "collapsed": false,
     "input": [
      "# Construct the new M\n",
      "M = np.dot(B, np.diag(eps+1))\n",
      "\n",
      "M = np.concatenate((M, np.array([M_notk_k]).T), axis=1)\n",
      "M_k_all = np.concatenate( (np.array([M_k_notk]), np.array([[m_kk]])), axis=1)\n",
      "M = np.concatenate( (M, M_k_all), axis=0)\n",
      "\n",
      "print 'M = \\n', M, '\\n'\n",
      "print 'Stability test: eig(M) = \\n', np.linalg.eigvals(M), '\\n'"
     ],
     "language": "python",
     "metadata": {},
     "outputs": [
      {
       "output_type": "stream",
       "stream": "stdout",
       "text": [
        "M = \n",
        "[[-0.73338373  0.          0.         -0.02003951  0.          0.        ]\n",
        " [ 0.         -0.66453228 -0.96600761 -0.05389107  0.          0.        ]\n",
        " [ 0.          0.75670642 -0.0295929   0.11676756 -0.82598807  0.69172487]\n",
        " [ 0.54064092  0.7628571  -0.87601365 -0.19838581 -1.19971855 -0.39143438]\n",
        " [ 0.          0.          0.92881306  0.11358207 -0.84568062  0.80920515]\n",
        " [ 0.          0.         -0.00384501  0.33096979 -0.20280918 -0.94059213]] \n",
        "\n",
        "Stability test: eig(M) = \n",
        "[-0.22384711+1.35516038j -0.22384711-1.35516038j -0.87279512+0.j\n",
        " -0.77621029+0.j         -0.65773393+0.32188767j -0.65773393-0.32188767j] \n",
        "\n"
       ]
      }
     ],
     "prompt_number": 223
    },
    {
     "cell_type": "markdown",
     "metadata": {},
     "source": [
      "To show that this is consistent with the original system, we can choose one of the original unscaled systems in the same way as in the previous section. First we can look at $r$ (the value of $r_k$ might be a constraint on our invader)"
     ]
    },
    {
     "cell_type": "code",
     "collapsed": false,
     "input": [
      "# Find an original system to compare it to\n",
      "\n",
      "r1 = -np.sum(B, axis=1)\n",
      "r2 = -np.sum(M, axis=1)\n",
      "\n",
      "print 'r from B \\n', r1, '\\n'\n",
      "print 'r from M \\n', r2, '\\n'"
     ],
     "language": "python",
     "metadata": {},
     "outputs": [
      {
       "output_type": "stream",
       "stream": "stdout",
       "text": [
        "r from B \n",
        "[ 0.75342324  1.68443097 -0.70961788  1.36205437 -1.00591967] \n",
        "\n",
        "r from M \n",
        "[ 0.75342324  1.68443097 -0.70961788  1.36205437 -1.00591967  0.81627654] \n",
        "\n"
       ]
      }
     ],
     "prompt_number": 224
    },
    {
     "cell_type": "markdown",
     "metadata": {},
     "source": [
      "Here is one of the possible unscaled systems, derived from the subsystem, a $s$ and $A$ pairing"
     ]
    },
    {
     "cell_type": "code",
     "collapsed": false,
     "input": [
      "s = np.random.random_sample(sz)\n",
      "S = np.diag(s)\n",
      "\n",
      "A_notk = np.dot(B, np.linalg.inv(S))\n",
      "\n",
      "print 's = ', s, '\\n'\n",
      "print 'Old A = \\n', A_notk"
     ],
     "language": "python",
     "metadata": {},
     "outputs": [
      {
       "output_type": "stream",
       "stream": "stdout",
       "text": [
        "s =  [ 0.5541056   0.22095847  0.00794778  0.61481     0.2536605 ] \n",
        "\n",
        "Old A = \n",
        "[[  -1.17940064    0.            0.           -0.16250671    0.        ]\n",
        " [   0.           -2.29879809 -114.22154842   -0.43701967    0.        ]\n",
        " [   0.            2.61765351   -3.49908949    0.94690497   -1.66810155]\n",
        " [   0.86943877    2.63893039 -103.5805868    -1.60877306   -2.42285868]\n",
        " [   0.            0.          109.82363386    0.9210728    -1.70787109]]\n"
       ]
      }
     ],
     "prompt_number": 225
    },
    {
     "cell_type": "markdown",
     "metadata": {},
     "source": [
      "We'll use this information and the change in the steady state to get our new $n$ and from that the extended $A$"
     ]
    },
    {
     "cell_type": "code",
     "collapsed": false,
     "input": [
      "# Choose a_kk such that n_k positive, find new A\n",
      "n_k = np.random.random_sample()\n",
      "n = np.append(s*(eps+1), n_k)\n",
      "N = np.diag(n)\n",
      "A = np.dot(M, np.linalg.inv(N))\n",
      "\n",
      "print 'New A = \\n', A, '\\n'\n",
      "print 'Stability test: eig(J) = \\n', np.linalg.eigvals(np.dot(N,A)), "
     ],
     "language": "python",
     "metadata": {},
     "outputs": [
      {
       "output_type": "stream",
       "stream": "stdout",
       "text": [
        "New A = \n",
        "[[  -1.17940064    0.            0.           -0.16250671    0.            0.        ]\n",
        " [   0.           -2.29879809 -114.22154842   -0.43701967    0.            0.        ]\n",
        " [   0.            2.61765351   -3.49908949    0.94690497   -1.66810155\n",
        "     1.40650462]\n",
        " [   0.86943877    2.63893039 -103.5805868    -1.60877306   -2.42285868\n",
        "    -0.79591509]\n",
        " [   0.            0.          109.82363386    0.9210728    -1.70787109\n",
        "     1.64538075]\n",
        " [   0.            0.           -0.45463754    2.68393838   -0.40957773\n",
        "    -1.91253378]] \n",
        "\n",
        "Stability test: eig(J) = \n",
        "[-0.22384711+1.35516038j -0.22384711-1.35516038j -0.65773393+0.32188767j\n",
        " -0.65773393-0.32188767j -0.87279512+0.j         -0.77621029+0.j        ]\n"
       ]
      }
     ],
     "prompt_number": 226
    },
    {
     "cell_type": "code",
     "collapsed": false,
     "input": [],
     "language": "python",
     "metadata": {},
     "outputs": [],
     "prompt_number": 197
    }
   ],
   "metadata": {}
  }
 ]
}